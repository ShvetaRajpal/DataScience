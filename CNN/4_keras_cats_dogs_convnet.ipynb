{
  "nbformat": 4,
  "nbformat_minor": 0,
  "metadata": {
    "colab": {
      "name": "4_keras_cats_dogs_convnet.ipynb",
      "provenance": [],
      "mount_file_id": "18F2q-811qJ0CoxleNIBpP00MLiBVHVZZ",
      "authorship_tag": "ABX9TyO5rcXajdo3z8bdCDV8b5JO",
      "include_colab_link": true
    },
    "kernelspec": {
      "name": "python3",
      "display_name": "Python 3"
    },
    "accelerator": "GPU"
  },
  "cells": [
    {
      "cell_type": "markdown",
      "metadata": {
        "id": "view-in-github",
        "colab_type": "text"
      },
      "source": [
        "<a href=\"https://colab.research.google.com/github/kiranmuloor/DataScience/blob/master/CNN/4_keras_cats_dogs_convnet.ipynb\" target=\"_parent\"><img src=\"https://colab.research.google.com/assets/colab-badge.svg\" alt=\"Open In Colab\"/></a>"
      ]
    },
    {
      "cell_type": "code",
      "metadata": {
        "id": "fFz4GrqO6DA0",
        "colab_type": "code",
        "colab": {
          "base_uri": "https://localhost:8080/",
          "height": 34
        },
        "outputId": "05d95f12-29bf-4f2b-b86d-d6679a80341c"
      },
      "source": [
        "from keras import layers\n",
        "from keras import models"
      ],
      "execution_count": 1,
      "outputs": [
        {
          "output_type": "stream",
          "text": [
            "Using TensorFlow backend.\n"
          ],
          "name": "stderr"
        }
      ]
    },
    {
      "cell_type": "code",
      "metadata": {
        "id": "EsxRT2cW9mKb",
        "colab_type": "code",
        "colab": {
          "base_uri": "https://localhost:8080/",
          "height": 34
        },
        "outputId": "931e848e-9867-42c7-879b-5f11cbc04685"
      },
      "source": [
        "from google.colab import drive\n",
        "drive.mount('/content/drive')"
      ],
      "execution_count": 2,
      "outputs": [
        {
          "output_type": "stream",
          "text": [
            "Drive already mounted at /content/drive; to attempt to forcibly remount, call drive.mount(\"/content/drive\", force_remount=True).\n"
          ],
          "name": "stdout"
        }
      ]
    },
    {
      "cell_type": "code",
      "metadata": {
        "id": "bsfkGRtv-jJj",
        "colab_type": "code",
        "colab": {}
      },
      "source": [
        "from IPython.core.interactiveshell import InteractiveShell\n",
        "InteractiveShell.ast_node_interactivity = \"all\""
      ],
      "execution_count": 0,
      "outputs": []
    },
    {
      "cell_type": "code",
      "metadata": {
        "id": "eRbI043Y-nPn",
        "colab_type": "code",
        "colab": {}
      },
      "source": [
        "train_dir=\"/content/drive/My Drive/Datascience/ClassWork/DeepLearning/CNN/dogs-vs-cats_small/train\"\n",
        "validation_dir=\"/content/drive/My Drive/Datascience/ClassWork/DeepLearning/CNN/dogs-vs-cats_small/validation\""
      ],
      "execution_count": 0,
      "outputs": []
    },
    {
      "cell_type": "code",
      "metadata": {
        "id": "oqzOKnLk-tK4",
        "colab_type": "code",
        "colab": {
          "base_uri": "https://localhost:8080/",
          "height": 52
        },
        "outputId": "ce50fe01-1cb9-40d0-a2bb-068cc86992aa"
      },
      "source": [
        "from keras.preprocessing.image import ImageDataGenerator\n",
        "train_datagen = ImageDataGenerator(rescale=1./255)\n",
        "test_datagen = ImageDataGenerator(rescale=1./255)\n",
        "train_generator = train_datagen.flow_from_directory(train_dir,target_size=(150, 150),batch_size=20,class_mode='binary')\n",
        "validation_generator = test_datagen.flow_from_directory(\n",
        "validation_dir,target_size=(150, 150),batch_size=20,class_mode='binary')"
      ],
      "execution_count": 5,
      "outputs": [
        {
          "output_type": "stream",
          "text": [
            "Found 3000 images belonging to 2 classes.\n",
            "Found 2000 images belonging to 2 classes.\n"
          ],
          "name": "stdout"
        }
      ]
    },
    {
      "cell_type": "code",
      "metadata": {
        "id": "HltyqbEe-24x",
        "colab_type": "code",
        "colab": {}
      },
      "source": [
        "model = models.Sequential()\n",
        "model.add(layers.Conv2D(32, (3, 3), activation='relu',input_shape=(150, 150, 3)))\n",
        "model.add(layers.MaxPooling2D((2, 2)))\n",
        "model.add(layers.Conv2D(64, (3, 3), activation='relu'))\n",
        "model.add(layers.MaxPooling2D((2, 2)))\n",
        "model.add(layers.Conv2D(128, (3, 3), activation='relu'))\n",
        "model.add(layers.MaxPooling2D((2, 2)))\n",
        "model.add(layers.Conv2D(128, (3, 3), activation='relu'))\n",
        "model.add(layers.MaxPooling2D((2, 2)))\n",
        "model.add(layers.Flatten())\n",
        "model.add(layers.Dense(512, activation='relu'))\n",
        "model.add(layers.Dense(1, activation='sigmoid'))\n"
      ],
      "execution_count": 0,
      "outputs": []
    },
    {
      "cell_type": "code",
      "metadata": {
        "id": "PH2It8kQ_pds",
        "colab_type": "code",
        "colab": {
          "base_uri": "https://localhost:8080/",
          "height": 1000
        },
        "outputId": "cb783241-5008-4148-b487-1456279865b6"
      },
      "source": [
        "from keras import optimizers\n",
        "model.compile(loss='binary_crossentropy',optimizer=optimizers.RMSprop(lr=1e-4),metrics=['acc'])\n",
        "\n",
        "history = model.fit_generator(\n",
        "train_generator,\n",
        "steps_per_epoch=100,\n",
        "epochs=30,\n",
        "validation_data=validation_generator,\n",
        "validation_steps=50)\n",
        "\n",
        "model.save('/content/drive/My Drive/Datascience/ClassWork/DeepLearning/CNN/cats_and_dogs_small_1.h5')"
      ],
      "execution_count": 8,
      "outputs": [
        {
          "output_type": "stream",
          "text": [
            "Epoch 1/30\n",
            "100/100 [==============================] - 206s 2s/step - loss: 0.6587 - acc: 0.6100 - val_loss: 0.6381 - val_acc: 0.6260\n",
            "Epoch 2/30\n",
            "100/100 [==============================] - 431s 4s/step - loss: 0.6272 - acc: 0.6525 - val_loss: 0.6653 - val_acc: 0.6810\n",
            "Epoch 3/30\n",
            "100/100 [==============================] - 11s 113ms/step - loss: 0.5925 - acc: 0.6785 - val_loss: 0.5528 - val_acc: 0.7000\n",
            "Epoch 4/30\n",
            "100/100 [==============================] - 11s 113ms/step - loss: 0.5631 - acc: 0.7140 - val_loss: 0.5815 - val_acc: 0.7060\n",
            "Epoch 5/30\n",
            "100/100 [==============================] - 11s 111ms/step - loss: 0.5325 - acc: 0.7275 - val_loss: 0.5839 - val_acc: 0.6940\n",
            "Epoch 6/30\n",
            "100/100 [==============================] - 11s 113ms/step - loss: 0.5181 - acc: 0.7470 - val_loss: 0.5409 - val_acc: 0.7250\n",
            "Epoch 7/30\n",
            "100/100 [==============================] - 11s 111ms/step - loss: 0.4801 - acc: 0.7670 - val_loss: 0.4847 - val_acc: 0.7400\n",
            "Epoch 8/30\n",
            "100/100 [==============================] - 11s 111ms/step - loss: 0.4784 - acc: 0.7670 - val_loss: 0.4906 - val_acc: 0.7240\n",
            "Epoch 9/30\n",
            "100/100 [==============================] - 11s 111ms/step - loss: 0.4659 - acc: 0.7705 - val_loss: 0.6111 - val_acc: 0.7330\n",
            "Epoch 10/30\n",
            "100/100 [==============================] - 11s 110ms/step - loss: 0.4427 - acc: 0.7945 - val_loss: 0.5180 - val_acc: 0.6970\n",
            "Epoch 11/30\n",
            "100/100 [==============================] - 11s 112ms/step - loss: 0.4033 - acc: 0.8100 - val_loss: 0.7177 - val_acc: 0.7520\n",
            "Epoch 12/30\n",
            "100/100 [==============================] - 11s 109ms/step - loss: 0.4133 - acc: 0.8135 - val_loss: 0.6981 - val_acc: 0.7500\n",
            "Epoch 13/30\n",
            "100/100 [==============================] - 11s 113ms/step - loss: 0.3755 - acc: 0.8340 - val_loss: 0.3207 - val_acc: 0.7330\n",
            "Epoch 14/30\n",
            "100/100 [==============================] - 11s 113ms/step - loss: 0.3869 - acc: 0.8270 - val_loss: 0.2921 - val_acc: 0.7470\n",
            "Epoch 15/30\n",
            "100/100 [==============================] - 11s 110ms/step - loss: 0.3585 - acc: 0.8460 - val_loss: 0.1931 - val_acc: 0.7770\n",
            "Epoch 16/30\n",
            "100/100 [==============================] - 11s 110ms/step - loss: 0.3449 - acc: 0.8430 - val_loss: 0.8045 - val_acc: 0.7450\n",
            "Epoch 17/30\n",
            "100/100 [==============================] - 12s 120ms/step - loss: 0.3119 - acc: 0.8690 - val_loss: 0.6588 - val_acc: 0.7690\n",
            "Epoch 18/30\n",
            "100/100 [==============================] - 11s 110ms/step - loss: 0.3297 - acc: 0.8630 - val_loss: 0.4693 - val_acc: 0.7090\n",
            "Epoch 19/30\n",
            "100/100 [==============================] - 11s 111ms/step - loss: 0.2853 - acc: 0.8810 - val_loss: 0.3500 - val_acc: 0.7850\n",
            "Epoch 20/30\n",
            "100/100 [==============================] - 11s 112ms/step - loss: 0.2984 - acc: 0.8640 - val_loss: 0.3583 - val_acc: 0.7610\n",
            "Epoch 21/30\n",
            "100/100 [==============================] - 11s 113ms/step - loss: 0.2716 - acc: 0.8895 - val_loss: 0.4282 - val_acc: 0.7600\n",
            "Epoch 22/30\n",
            "100/100 [==============================] - 11s 109ms/step - loss: 0.2515 - acc: 0.8995 - val_loss: 0.3117 - val_acc: 0.7340\n",
            "Epoch 23/30\n",
            "100/100 [==============================] - 11s 110ms/step - loss: 0.2301 - acc: 0.9080 - val_loss: 0.8424 - val_acc: 0.7400\n",
            "Epoch 24/30\n",
            "100/100 [==============================] - 11s 109ms/step - loss: 0.2460 - acc: 0.9010 - val_loss: 0.6296 - val_acc: 0.7890\n",
            "Epoch 25/30\n",
            "100/100 [==============================] - 11s 110ms/step - loss: 0.2122 - acc: 0.9170 - val_loss: 0.4832 - val_acc: 0.7530\n",
            "Epoch 26/30\n",
            "100/100 [==============================] - 11s 110ms/step - loss: 0.1885 - acc: 0.9320 - val_loss: 0.4168 - val_acc: 0.7750\n",
            "Epoch 27/30\n",
            "100/100 [==============================] - 11s 109ms/step - loss: 0.1830 - acc: 0.9265 - val_loss: 0.3416 - val_acc: 0.7740\n",
            "Epoch 28/30\n",
            "100/100 [==============================] - 11s 111ms/step - loss: 0.1604 - acc: 0.9460 - val_loss: 0.4917 - val_acc: 0.7780\n",
            "Epoch 29/30\n",
            "100/100 [==============================] - 11s 110ms/step - loss: 0.1648 - acc: 0.9420 - val_loss: 0.3657 - val_acc: 0.7740\n",
            "Epoch 30/30\n",
            "100/100 [==============================] - 11s 110ms/step - loss: 0.1488 - acc: 0.9420 - val_loss: 1.1744 - val_acc: 0.7800\n"
          ],
          "name": "stdout"
        }
      ]
    },
    {
      "cell_type": "code",
      "metadata": {
        "id": "Ykcoo3xs_hSa",
        "colab_type": "code",
        "colab": {
          "base_uri": "https://localhost:8080/",
          "height": 34
        },
        "outputId": "961cb04f-3a4c-4ee6-ad47-3ff7eb0a5fd5"
      },
      "source": [
        "history_dict = history.history\n",
        "print(history_dict.keys())"
      ],
      "execution_count": 9,
      "outputs": [
        {
          "output_type": "stream",
          "text": [
            "dict_keys(['val_loss', 'val_acc', 'loss', 'acc'])\n"
          ],
          "name": "stdout"
        }
      ]
    },
    {
      "cell_type": "code",
      "metadata": {
        "id": "FxeuZL1u_h8-",
        "colab_type": "code",
        "colab": {
          "base_uri": "https://localhost:8080/",
          "height": 598
        },
        "outputId": "2c8ec41a-de28-47a1-ce6b-98633a4311e6"
      },
      "source": [
        "import matplotlib.pyplot as plt\n",
        "acc = history.history['acc']\n",
        "val_acc = history.history['val_acc']\n",
        "loss = history.history['loss']\n",
        "val_loss = history.history['val_loss']\n",
        "epochs = range(1, len(acc) + 1)\n",
        "plt.plot(epochs, acc, 'bo', label='Training acc')\n",
        "plt.plot(epochs, val_acc, 'b', label='Validation acc')\n",
        "plt.title('Training and validation accuracy')\n",
        "plt.legend()\n",
        "plt.figure()\n",
        "plt.plot(epochs, loss, 'bo', label='Training loss')\n",
        "plt.plot(epochs, val_loss, 'b', label='Validation loss')\n",
        "plt.title('Training and validation loss')\n",
        "plt.legend()\n",
        "plt.show()"
      ],
      "execution_count": 10,
      "outputs": [
        {
          "output_type": "execute_result",
          "data": {
            "text/plain": [
              "[<matplotlib.lines.Line2D at 0x7f2f601ec3c8>]"
            ]
          },
          "metadata": {
            "tags": []
          },
          "execution_count": 10
        },
        {
          "output_type": "execute_result",
          "data": {
            "text/plain": [
              "[<matplotlib.lines.Line2D at 0x7f2f6036f4e0>]"
            ]
          },
          "metadata": {
            "tags": []
          },
          "execution_count": 10
        },
        {
          "output_type": "execute_result",
          "data": {
            "text/plain": [
              "Text(0.5, 1.0, 'Training and validation accuracy')"
            ]
          },
          "metadata": {
            "tags": []
          },
          "execution_count": 10
        },
        {
          "output_type": "execute_result",
          "data": {
            "text/plain": [
              "<matplotlib.legend.Legend at 0x7f2f601ec8d0>"
            ]
          },
          "metadata": {
            "tags": []
          },
          "execution_count": 10
        },
        {
          "output_type": "execute_result",
          "data": {
            "text/plain": [
              "<Figure size 432x288 with 0 Axes>"
            ]
          },
          "metadata": {
            "tags": []
          },
          "execution_count": 10
        },
        {
          "output_type": "execute_result",
          "data": {
            "text/plain": [
              "[<matplotlib.lines.Line2D at 0x7f2f601b4c50>]"
            ]
          },
          "metadata": {
            "tags": []
          },
          "execution_count": 10
        },
        {
          "output_type": "execute_result",
          "data": {
            "text/plain": [
              "[<matplotlib.lines.Line2D at 0x7f2f601ffa20>]"
            ]
          },
          "metadata": {
            "tags": []
          },
          "execution_count": 10
        },
        {
          "output_type": "execute_result",
          "data": {
            "text/plain": [
              "Text(0.5, 1.0, 'Training and validation loss')"
            ]
          },
          "metadata": {
            "tags": []
          },
          "execution_count": 10
        },
        {
          "output_type": "execute_result",
          "data": {
            "text/plain": [
              "<matplotlib.legend.Legend at 0x7f2f601a3470>"
            ]
          },
          "metadata": {
            "tags": []
          },
          "execution_count": 10
        },
        {
          "output_type": "display_data",
          "data": {
            "image/png": "[encoded data removed]",
            "text/plain": [
              "<Figure size 432x288 with 1 Axes>"
            ]
          },
          "metadata": {
            "tags": [],
            "needs_background": "light"
          }
        },
        {
          "output_type": "display_data",
          "data": {
            "image/png": "[encoded data removed]",
            "text/plain": [
              "<Figure size 432x288 with 1 Axes>"
            ]
          },
          "metadata": {
            "tags": [],
            "needs_background": "light"
          }
        }
      ]
    },
    {
      "cell_type": "code",
      "metadata": {
        "id": "n8ehFh-J_jui",
        "colab_type": "code",
        "colab": {}
      },
      "source": [
        ""
      ],
      "execution_count": 0,
      "outputs": []
    }
  ]
}