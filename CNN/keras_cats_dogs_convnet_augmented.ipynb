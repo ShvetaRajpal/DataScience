{
  "nbformat": 4,
  "nbformat_minor": 0,
  "metadata": {
    "colab": {
      "name": "keras_cats_dogs_convnet_augmented.ipynb",
      "provenance": [],
      "mount_file_id": "1W6rMlJwtxQP_h0jk9jFtRm4W8JANYAlm",
      "authorship_tag": "ABX9TyPU+QQuMuxmp0k1poT/hR+P",
      "include_colab_link": true
    },
    "kernelspec": {
      "name": "python3",
      "display_name": "Python 3"
    },
    "accelerator": "GPU"
  },
  "cells": [
    {
      "cell_type": "markdown",
      "metadata": {
        "id": "view-in-github",
        "colab_type": "text"
      },
      "source": [
        "<a href=\"https://colab.research.google.com/github/kiranmuloor/DataScience/blob/master/CNN/keras_cats_dogs_convnet_augmented.ipynb\" target=\"_parent\"><img src=\"https://colab.research.google.com/assets/colab-badge.svg\" alt=\"Open In Colab\"/></a>"
      ]
    },
    {
      "cell_type": "code",
      "metadata": {
        "id": "5j55ITryIaAT",
        "colab_type": "code",
        "colab": {
          "base_uri": "https://localhost:8080/",
          "height": 34
        },
        "outputId": "d5b703e4-bd2e-4a36-82fb-4a1459e6461c"
      },
      "source": [
        "#Keras Model with Image Augmentation and Dropout to reduce overfitting\n",
        "from keras import layers\n",
        "from keras import models"
      ],
      "execution_count": 1,
      "outputs": [
        {
          "output_type": "stream",
          "text": [
            "Using TensorFlow backend.\n"
          ],
          "name": "stderr"
        }
      ]
    },
    {
      "cell_type": "code",
      "metadata": {
        "id": "gYCeYbXKIw-Y",
        "colab_type": "code",
        "colab": {
          "base_uri": "https://localhost:8080/",
          "height": 34
        },
        "outputId": "e564098c-e00d-4f23-9067-d8c1da7e9692"
      },
      "source": [
        "from google.colab import drive\n",
        "drive.mount('/content/drive')\n",
        "from IPython.core.interactiveshell import InteractiveShell\n",
        "InteractiveShell.ast_node_interactivity = \"all\""
      ],
      "execution_count": 2,
      "outputs": [
        {
          "output_type": "stream",
          "text": [
            "Drive already mounted at /content/drive; to attempt to forcibly remount, call drive.mount(\"/content/drive\", force_remount=True).\n"
          ],
          "name": "stdout"
        }
      ]
    },
    {
      "cell_type": "code",
      "metadata": {
        "id": "ntgDRPsGIqOv",
        "colab_type": "code",
        "colab": {}
      },
      "source": [
        "train_dir=\"/content/drive/My Drive/Datascience/ClassWork/DeepLearning/CNN/dogs-vs-cats_small/train/\"\n",
        "validation_dir=\"/content/drive/My Drive/Datascience/ClassWork/DeepLearning/CNN/dogs-vs-cats_small/validation/\"\n",
        "from keras.preprocessing.image import ImageDataGenerator\n",
        "train_datagen = ImageDataGenerator(\n",
        "rescale=1./255,\n",
        "rotation_range=40,\n",
        "width_shift_range=0.2,\n",
        "height_shift_range=0.2,\n",
        "shear_range=0.2,\n",
        "zoom_range=0.2,\n",
        "horizontal_flip=True,)"
      ],
      "execution_count": 0,
      "outputs": []
    },
    {
      "cell_type": "code",
      "metadata": {
        "id": "lRNfm3mSI1vB",
        "colab_type": "code",
        "colab": {
          "base_uri": "https://localhost:8080/",
          "height": 52
        },
        "outputId": "7b7fab9d-c564-479d-8858-86ed4a3ff1a6"
      },
      "source": [
        "#Validation Data Set should not be augmented\n",
        "test_datagen = ImageDataGenerator(rescale=1./255)\n",
        "#Resize all images to 150x150\n",
        "train_generator = train_datagen.flow_from_directory(train_dir,target_size=(150, 150),batch_size=32,class_mode='binary')\n",
        "validation_generator = test_datagen.flow_from_directory(\n",
        "validation_dir,target_size=(150, 150),batch_size=32,class_mode='binary')"
      ],
      "execution_count": 4,
      "outputs": [
        {
          "output_type": "stream",
          "text": [
            "Found 3000 images belonging to 2 classes.\n",
            "Found 2000 images belonging to 2 classes.\n"
          ],
          "name": "stdout"
        }
      ]
    },
    {
      "cell_type": "code",
      "metadata": {
        "id": "MeOmW_CZI3zw",
        "colab_type": "code",
        "colab": {}
      },
      "source": [
        "model = models.Sequential()\n",
        "model.add(layers.Conv2D(32, (3, 3), activation='relu',input_shape=(150, 150, 3)))\n",
        "model.add(layers.MaxPooling2D((2, 2)))\n",
        "model.add(layers.Conv2D(64, (3, 3), activation='relu'))\n",
        "model.add(layers.MaxPooling2D((2, 2)))\n",
        "model.add(layers.Conv2D(128, (3, 3), activation='relu'))\n",
        "model.add(layers.MaxPooling2D((2, 2)))\n",
        "model.add(layers.Conv2D(128, (3, 3), activation='relu'))\n",
        "model.add(layers.MaxPooling2D((2, 2)))\n",
        "model.add(layers.Flatten())\n",
        "model.add(layers.Dropout(0.5))\n",
        "model.add(layers.Dense(512, activation='relu'))\n",
        "model.add(layers.Dense(1, activation='sigmoid'))"
      ],
      "execution_count": 0,
      "outputs": []
    },
    {
      "cell_type": "code",
      "metadata": {
        "id": "eI8vbkwBJOXW",
        "colab_type": "code",
        "colab": {
          "base_uri": "https://localhost:8080/",
          "height": 1000
        },
        "outputId": "30eba2b5-88ca-4053-93c8-12f8d509af95"
      },
      "source": [
        "from keras import optimizers\n",
        "model.compile(loss='binary_crossentropy',optimizer=optimizers.RMSprop(lr=1e-4),metrics=['acc'])\n",
        "\n",
        "history = model.fit_generator(\n",
        "train_generator,\n",
        "steps_per_epoch=100,\n",
        "epochs=100,\n",
        "validation_data=validation_generator,\n",
        "validation_steps=50)"
      ],
      "execution_count": 7,
      "outputs": [
        {
          "output_type": "stream",
          "text": [
            "Epoch 1/100\n",
            "100/100 [==============================] - 318s 3s/step - loss: 0.6834 - acc: 0.5630 - val_loss: 0.7538 - val_acc: 0.4931\n",
            "Epoch 2/100\n",
            "100/100 [==============================] - 166s 2s/step - loss: 0.6747 - acc: 0.5774 - val_loss: 0.6253 - val_acc: 0.6509\n",
            "Epoch 3/100\n",
            "100/100 [==============================] - 29s 293ms/step - loss: 0.6620 - acc: 0.5962 - val_loss: 0.8065 - val_acc: 0.5783\n",
            "Epoch 4/100\n",
            "100/100 [==============================] - 30s 295ms/step - loss: 0.6398 - acc: 0.6353 - val_loss: 0.6254 - val_acc: 0.6679\n",
            "Epoch 5/100\n",
            "100/100 [==============================] - 29s 294ms/step - loss: 0.6197 - acc: 0.6507 - val_loss: 0.5913 - val_acc: 0.6825\n",
            "Epoch 6/100\n",
            "100/100 [==============================] - 30s 297ms/step - loss: 0.6194 - acc: 0.6454 - val_loss: 0.6154 - val_acc: 0.6427\n",
            "Epoch 7/100\n",
            "100/100 [==============================] - 29s 294ms/step - loss: 0.6061 - acc: 0.6665 - val_loss: 0.5571 - val_acc: 0.7216\n",
            "Epoch 8/100\n",
            "100/100 [==============================] - 29s 292ms/step - loss: 0.5928 - acc: 0.6795 - val_loss: 0.6050 - val_acc: 0.6970\n",
            "Epoch 9/100\n",
            "100/100 [==============================] - 30s 295ms/step - loss: 0.5830 - acc: 0.6855 - val_loss: 0.5060 - val_acc: 0.7128\n",
            "Epoch 10/100\n",
            "100/100 [==============================] - 29s 294ms/step - loss: 0.5806 - acc: 0.6964 - val_loss: 0.5824 - val_acc: 0.6275\n",
            "Epoch 11/100\n",
            "100/100 [==============================] - 30s 304ms/step - loss: 0.5834 - acc: 0.6845 - val_loss: 0.6977 - val_acc: 0.6976\n",
            "Epoch 12/100\n",
            "100/100 [==============================] - 30s 295ms/step - loss: 0.5704 - acc: 0.6994 - val_loss: 0.6182 - val_acc: 0.7304\n",
            "Epoch 13/100\n",
            "100/100 [==============================] - 29s 292ms/step - loss: 0.5546 - acc: 0.7057 - val_loss: 0.4055 - val_acc: 0.6559\n",
            "Epoch 14/100\n",
            "100/100 [==============================] - 29s 292ms/step - loss: 0.5567 - acc: 0.7093 - val_loss: 0.4238 - val_acc: 0.7456\n",
            "Epoch 15/100\n",
            "100/100 [==============================] - 29s 288ms/step - loss: 0.5593 - acc: 0.7049 - val_loss: 0.4123 - val_acc: 0.7275\n",
            "Epoch 16/100\n",
            "100/100 [==============================] - 31s 313ms/step - loss: 0.5419 - acc: 0.7180 - val_loss: 0.4147 - val_acc: 0.7298\n",
            "Epoch 17/100\n",
            "100/100 [==============================] - 29s 294ms/step - loss: 0.5340 - acc: 0.7312 - val_loss: 0.5315 - val_acc: 0.6900\n",
            "Epoch 18/100\n",
            "100/100 [==============================] - 29s 295ms/step - loss: 0.5452 - acc: 0.7240 - val_loss: 0.5925 - val_acc: 0.7285\n",
            "Epoch 19/100\n",
            "100/100 [==============================] - 29s 294ms/step - loss: 0.5443 - acc: 0.7130 - val_loss: 0.5979 - val_acc: 0.7494\n",
            "Epoch 20/100\n",
            "100/100 [==============================] - 30s 295ms/step - loss: 0.5271 - acc: 0.7328 - val_loss: 0.3362 - val_acc: 0.7625\n",
            "Epoch 21/100\n",
            "100/100 [==============================] - 30s 299ms/step - loss: 0.5342 - acc: 0.7246 - val_loss: 0.4621 - val_acc: 0.7506\n",
            "Epoch 22/100\n",
            "100/100 [==============================] - 29s 292ms/step - loss: 0.5292 - acc: 0.7437 - val_loss: 0.3800 - val_acc: 0.7386\n",
            "Epoch 23/100\n",
            "100/100 [==============================] - 30s 296ms/step - loss: 0.5185 - acc: 0.7506 - val_loss: 0.6744 - val_acc: 0.7077\n",
            "Epoch 24/100\n",
            "100/100 [==============================] - 29s 292ms/step - loss: 0.5181 - acc: 0.7368 - val_loss: 0.4063 - val_acc: 0.7689\n",
            "Epoch 25/100\n",
            "100/100 [==============================] - 29s 292ms/step - loss: 0.5174 - acc: 0.7381 - val_loss: 0.4295 - val_acc: 0.7706\n",
            "Epoch 26/100\n",
            "100/100 [==============================] - 30s 296ms/step - loss: 0.5159 - acc: 0.7428 - val_loss: 0.3983 - val_acc: 0.7456\n",
            "Epoch 27/100\n",
            "100/100 [==============================] - 29s 293ms/step - loss: 0.5094 - acc: 0.7403 - val_loss: 0.5545 - val_acc: 0.7418\n",
            "Epoch 28/100\n",
            "100/100 [==============================] - 29s 294ms/step - loss: 0.5091 - acc: 0.7456 - val_loss: 0.5799 - val_acc: 0.7683\n",
            "Epoch 29/100\n",
            "100/100 [==============================] - 29s 295ms/step - loss: 0.5190 - acc: 0.7437 - val_loss: 0.3872 - val_acc: 0.7702\n",
            "Epoch 30/100\n",
            "100/100 [==============================] - 29s 288ms/step - loss: 0.4965 - acc: 0.7503 - val_loss: 0.4592 - val_acc: 0.7894\n",
            "Epoch 31/100\n",
            "100/100 [==============================] - 29s 289ms/step - loss: 0.4914 - acc: 0.7650 - val_loss: 0.5593 - val_acc: 0.7330\n",
            "Epoch 32/100\n",
            "100/100 [==============================] - 32s 322ms/step - loss: 0.5010 - acc: 0.7506 - val_loss: 0.4236 - val_acc: 0.7588\n",
            "Epoch 33/100\n",
            "100/100 [==============================] - 29s 292ms/step - loss: 0.4870 - acc: 0.7557 - val_loss: 0.4522 - val_acc: 0.7449\n",
            "Epoch 34/100\n",
            "100/100 [==============================] - 30s 295ms/step - loss: 0.4850 - acc: 0.7659 - val_loss: 0.2119 - val_acc: 0.7800\n",
            "Epoch 35/100\n",
            "100/100 [==============================] - 30s 296ms/step - loss: 0.4899 - acc: 0.7607 - val_loss: 0.3574 - val_acc: 0.7734\n",
            "Epoch 36/100\n",
            "100/100 [==============================] - 29s 292ms/step - loss: 0.4977 - acc: 0.7563 - val_loss: 0.4157 - val_acc: 0.7790\n",
            "Epoch 37/100\n",
            "100/100 [==============================] - 29s 294ms/step - loss: 0.4801 - acc: 0.7641 - val_loss: 0.3932 - val_acc: 0.7879\n",
            "Epoch 38/100\n",
            "100/100 [==============================] - 29s 292ms/step - loss: 0.4739 - acc: 0.7751 - val_loss: 0.4023 - val_acc: 0.7740\n",
            "Epoch 39/100\n",
            "100/100 [==============================] - 29s 293ms/step - loss: 0.4817 - acc: 0.7734 - val_loss: 0.6263 - val_acc: 0.6913\n",
            "Epoch 40/100\n",
            "100/100 [==============================] - 29s 294ms/step - loss: 0.4692 - acc: 0.7707 - val_loss: 0.3790 - val_acc: 0.7658\n",
            "Epoch 41/100\n",
            "100/100 [==============================] - 29s 291ms/step - loss: 0.4690 - acc: 0.7814 - val_loss: 0.4520 - val_acc: 0.7715\n",
            "Epoch 42/100\n",
            "100/100 [==============================] - 30s 299ms/step - loss: 0.4640 - acc: 0.7788 - val_loss: 0.3384 - val_acc: 0.7633\n",
            "Epoch 43/100\n",
            "100/100 [==============================] - 29s 292ms/step - loss: 0.4556 - acc: 0.7930 - val_loss: 0.6044 - val_acc: 0.8005\n",
            "Epoch 44/100\n",
            "100/100 [==============================] - 29s 292ms/step - loss: 0.4611 - acc: 0.7835 - val_loss: 0.3072 - val_acc: 0.7744\n",
            "Epoch 45/100\n",
            "100/100 [==============================] - 29s 294ms/step - loss: 0.4718 - acc: 0.7779 - val_loss: 0.3557 - val_acc: 0.7759\n",
            "Epoch 46/100\n",
            "100/100 [==============================] - 28s 283ms/step - loss: 0.4577 - acc: 0.7784 - val_loss: 0.4686 - val_acc: 0.7955\n",
            "Epoch 47/100\n",
            "100/100 [==============================] - 30s 304ms/step - loss: 0.4673 - acc: 0.7720 - val_loss: 0.3436 - val_acc: 0.8005\n",
            "Epoch 48/100\n",
            "100/100 [==============================] - 29s 292ms/step - loss: 0.4633 - acc: 0.7741 - val_loss: 0.3930 - val_acc: 0.7866\n",
            "Epoch 49/100\n",
            "100/100 [==============================] - 29s 291ms/step - loss: 0.4589 - acc: 0.7839 - val_loss: 0.4803 - val_acc: 0.7912\n",
            "Epoch 50/100\n",
            "100/100 [==============================] - 29s 295ms/step - loss: 0.4433 - acc: 0.7897 - val_loss: 0.4573 - val_acc: 0.8056\n",
            "Epoch 51/100\n",
            "100/100 [==============================] - 29s 290ms/step - loss: 0.4446 - acc: 0.7854 - val_loss: 0.2544 - val_acc: 0.7847\n",
            "Epoch 52/100\n",
            "100/100 [==============================] - 29s 294ms/step - loss: 0.4365 - acc: 0.7946 - val_loss: 0.5917 - val_acc: 0.7961\n",
            "Epoch 53/100\n",
            "100/100 [==============================] - 30s 300ms/step - loss: 0.4400 - acc: 0.7925 - val_loss: 0.5725 - val_acc: 0.7866\n",
            "Epoch 54/100\n",
            "100/100 [==============================] - 29s 291ms/step - loss: 0.4512 - acc: 0.7839 - val_loss: 0.5200 - val_acc: 0.8025\n",
            "Epoch 55/100\n",
            "100/100 [==============================] - 29s 292ms/step - loss: 0.4324 - acc: 0.8012 - val_loss: 0.4063 - val_acc: 0.7973\n",
            "Epoch 56/100\n",
            "100/100 [==============================] - 29s 294ms/step - loss: 0.4466 - acc: 0.7883 - val_loss: 0.4394 - val_acc: 0.7771\n",
            "Epoch 57/100\n",
            "100/100 [==============================] - 29s 292ms/step - loss: 0.4271 - acc: 0.8051 - val_loss: 0.5860 - val_acc: 0.7519\n",
            "Epoch 58/100\n",
            "100/100 [==============================] - 29s 293ms/step - loss: 0.4428 - acc: 0.7957 - val_loss: 0.4094 - val_acc: 0.8005\n",
            "Epoch 59/100\n",
            "100/100 [==============================] - 29s 293ms/step - loss: 0.4385 - acc: 0.7995 - val_loss: 0.5577 - val_acc: 0.7781\n",
            "Epoch 60/100\n",
            "100/100 [==============================] - 29s 292ms/step - loss: 0.4301 - acc: 0.7986 - val_loss: 0.2678 - val_acc: 0.8138\n",
            "Epoch 61/100\n",
            "100/100 [==============================] - 29s 292ms/step - loss: 0.4224 - acc: 0.8004 - val_loss: 0.3917 - val_acc: 0.8030\n",
            "Epoch 62/100\n",
            "100/100 [==============================] - 28s 285ms/step - loss: 0.4256 - acc: 0.7986 - val_loss: 0.4167 - val_acc: 0.7866\n",
            "Epoch 63/100\n",
            "100/100 [==============================] - 31s 312ms/step - loss: 0.4163 - acc: 0.8127 - val_loss: 0.4730 - val_acc: 0.8201\n",
            "Epoch 64/100\n",
            "100/100 [==============================] - 30s 295ms/step - loss: 0.4277 - acc: 0.8042 - val_loss: 0.5720 - val_acc: 0.8044\n",
            "Epoch 65/100\n",
            "100/100 [==============================] - 29s 291ms/step - loss: 0.4160 - acc: 0.8075 - val_loss: 0.4942 - val_acc: 0.8005\n",
            "Epoch 66/100\n",
            "100/100 [==============================] - 29s 292ms/step - loss: 0.4187 - acc: 0.8076 - val_loss: 0.5440 - val_acc: 0.7929\n",
            "Epoch 67/100\n",
            "100/100 [==============================] - 29s 293ms/step - loss: 0.4144 - acc: 0.8017 - val_loss: 0.5215 - val_acc: 0.8030\n",
            "Epoch 68/100\n",
            "100/100 [==============================] - 29s 291ms/step - loss: 0.4158 - acc: 0.8138 - val_loss: 0.3097 - val_acc: 0.8125\n",
            "Epoch 69/100\n",
            "100/100 [==============================] - 29s 294ms/step - loss: 0.4099 - acc: 0.8086 - val_loss: 0.3798 - val_acc: 0.8074\n",
            "Epoch 70/100\n",
            "100/100 [==============================] - 29s 294ms/step - loss: 0.4187 - acc: 0.8051 - val_loss: 0.3813 - val_acc: 0.8119\n",
            "Epoch 71/100\n",
            "100/100 [==============================] - 29s 293ms/step - loss: 0.4041 - acc: 0.8166 - val_loss: 0.6221 - val_acc: 0.8056\n",
            "Epoch 72/100\n",
            "100/100 [==============================] - 30s 296ms/step - loss: 0.4062 - acc: 0.8098 - val_loss: 0.3809 - val_acc: 0.8201\n",
            "Epoch 73/100\n",
            "100/100 [==============================] - 30s 296ms/step - loss: 0.3933 - acc: 0.8227 - val_loss: 0.5099 - val_acc: 0.8087\n",
            "Epoch 74/100\n",
            "100/100 [==============================] - 30s 301ms/step - loss: 0.3959 - acc: 0.8180 - val_loss: 0.6274 - val_acc: 0.8074\n",
            "Epoch 75/100\n",
            "100/100 [==============================] - 29s 294ms/step - loss: 0.4019 - acc: 0.8080 - val_loss: 0.5444 - val_acc: 0.8169\n",
            "Epoch 76/100\n",
            "100/100 [==============================] - 29s 293ms/step - loss: 0.4070 - acc: 0.8183 - val_loss: 0.3390 - val_acc: 0.7961\n",
            "Epoch 77/100\n",
            "100/100 [==============================] - 29s 289ms/step - loss: 0.3894 - acc: 0.8233 - val_loss: 0.4843 - val_acc: 0.8264\n",
            "Epoch 78/100\n",
            "100/100 [==============================] - 29s 289ms/step - loss: 0.3944 - acc: 0.8141 - val_loss: 0.6373 - val_acc: 0.8225\n",
            "Epoch 79/100\n",
            "100/100 [==============================] - 32s 317ms/step - loss: 0.3830 - acc: 0.8307 - val_loss: 0.2455 - val_acc: 0.8295\n",
            "Epoch 80/100\n",
            "100/100 [==============================] - 29s 294ms/step - loss: 0.3860 - acc: 0.8251 - val_loss: 0.3997 - val_acc: 0.8163\n",
            "Epoch 81/100\n",
            "100/100 [==============================] - 29s 294ms/step - loss: 0.3767 - acc: 0.8378 - val_loss: 0.6987 - val_acc: 0.8119\n",
            "Epoch 82/100\n",
            "100/100 [==============================] - 29s 293ms/step - loss: 0.3936 - acc: 0.8246 - val_loss: 0.4964 - val_acc: 0.8207\n",
            "Epoch 83/100\n",
            "100/100 [==============================] - 29s 295ms/step - loss: 0.3782 - acc: 0.8244 - val_loss: 0.3854 - val_acc: 0.8194\n",
            "Epoch 84/100\n",
            "100/100 [==============================] - 30s 298ms/step - loss: 0.3833 - acc: 0.8169 - val_loss: 0.2151 - val_acc: 0.8308\n",
            "Epoch 85/100\n",
            "100/100 [==============================] - 29s 295ms/step - loss: 0.3673 - acc: 0.8396 - val_loss: 0.5273 - val_acc: 0.8018\n",
            "Epoch 86/100\n",
            "100/100 [==============================] - 29s 294ms/step - loss: 0.3850 - acc: 0.8346 - val_loss: 0.6281 - val_acc: 0.7904\n",
            "Epoch 87/100\n",
            "100/100 [==============================] - 29s 293ms/step - loss: 0.3885 - acc: 0.8296 - val_loss: 0.3340 - val_acc: 0.8201\n",
            "Epoch 88/100\n",
            "100/100 [==============================] - 29s 291ms/step - loss: 0.3869 - acc: 0.8239 - val_loss: 0.6541 - val_acc: 0.8169\n",
            "Epoch 89/100\n",
            "100/100 [==============================] - 29s 293ms/step - loss: 0.3749 - acc: 0.8332 - val_loss: 0.4468 - val_acc: 0.8390\n",
            "Epoch 90/100\n",
            "100/100 [==============================] - 29s 292ms/step - loss: 0.3685 - acc: 0.8300 - val_loss: 0.2899 - val_acc: 0.8295\n",
            "Epoch 91/100\n",
            "100/100 [==============================] - 29s 292ms/step - loss: 0.3709 - acc: 0.8345 - val_loss: 0.6284 - val_acc: 0.8030\n",
            "Epoch 92/100\n",
            "100/100 [==============================] - 29s 292ms/step - loss: 0.3729 - acc: 0.8374 - val_loss: 0.4504 - val_acc: 0.8169\n",
            "Epoch 93/100\n",
            "100/100 [==============================] - 28s 284ms/step - loss: 0.3672 - acc: 0.8280 - val_loss: 0.6350 - val_acc: 0.8306\n",
            "Epoch 94/100\n",
            "100/100 [==============================] - 31s 307ms/step - loss: 0.3646 - acc: 0.8365 - val_loss: 0.3611 - val_acc: 0.8169\n",
            "Epoch 95/100\n",
            "100/100 [==============================] - 29s 294ms/step - loss: 0.3643 - acc: 0.8349 - val_loss: 0.4939 - val_acc: 0.8409\n",
            "Epoch 96/100\n",
            "100/100 [==============================] - 29s 289ms/step - loss: 0.3638 - acc: 0.8395 - val_loss: 0.3128 - val_acc: 0.8340\n",
            "Epoch 97/100\n",
            "100/100 [==============================] - 29s 293ms/step - loss: 0.3668 - acc: 0.8428 - val_loss: 0.2805 - val_acc: 0.8356\n",
            "Epoch 98/100\n",
            "100/100 [==============================] - 29s 294ms/step - loss: 0.3691 - acc: 0.8296 - val_loss: 0.2865 - val_acc: 0.8422\n",
            "Epoch 99/100\n",
            "100/100 [==============================] - 29s 289ms/step - loss: 0.3626 - acc: 0.8358 - val_loss: 0.5114 - val_acc: 0.8024\n",
            "Epoch 100/100\n",
            "100/100 [==============================] - 29s 292ms/step - loss: 0.3464 - acc: 0.8484 - val_loss: 0.5819 - val_acc: 0.8384\n"
          ],
          "name": "stdout"
        }
      ]
    },
    {
      "cell_type": "code",
      "metadata": {
        "id": "od-bDeW4JQJh",
        "colab_type": "code",
        "colab": {}
      },
      "source": [
        "model.save('cats_and_dogs_small_2.h5')"
      ],
      "execution_count": 0,
      "outputs": []
    },
    {
      "cell_type": "code",
      "metadata": {
        "id": "wDYftYJ6JSq1",
        "colab_type": "code",
        "colab": {
          "base_uri": "https://localhost:8080/",
          "height": 598
        },
        "outputId": "41c33617-b69c-4243-e877-a745dc107854"
      },
      "source": [
        "import matplotlib.pyplot as plt\n",
        "acc = history.history['acc']\n",
        "val_acc = history.history['val_acc']\n",
        "loss = history.history['loss']\n",
        "val_loss = history.history['val_loss']\n",
        "epochs = range(1, len(acc) + 1)\n",
        "plt.plot(epochs, acc, 'bo', label='Training acc')\n",
        "plt.plot(epochs, val_acc, 'b', label='Validation acc')\n",
        "plt.title('Training and validation accuracy')\n",
        "plt.legend()\n",
        "plt.figure()\n",
        "plt.plot(epochs, loss, 'bo', label='Training loss')\n",
        "plt.plot(epochs, val_loss, 'b', label='Validation loss')\n",
        "plt.title('Training and validation loss')\n",
        "plt.legend()\n",
        "plt.show()"
      ],
      "execution_count": 9,
      "outputs": [
        {
          "output_type": "execute_result",
          "data": {
            "text/plain": [
              "[<matplotlib.lines.Line2D at 0x7f1b70f76898>]"
            ]
          },
          "metadata": {
            "tags": []
          },
          "execution_count": 9
        },
        {
          "output_type": "execute_result",
          "data": {
            "text/plain": [
              "[<matplotlib.lines.Line2D at 0x7f1b70f89ac8>]"
            ]
          },
          "metadata": {
            "tags": []
          },
          "execution_count": 9
        },
        {
          "output_type": "execute_result",
          "data": {
            "text/plain": [
              "Text(0.5, 1.0, 'Training and validation accuracy')"
            ]
          },
          "metadata": {
            "tags": []
          },
          "execution_count": 9
        },
        {
          "output_type": "execute_result",
          "data": {
            "text/plain": [
              "<matplotlib.legend.Legend at 0x7f1b70f621d0>"
            ]
          },
          "metadata": {
            "tags": []
          },
          "execution_count": 9
        },
        {
          "output_type": "execute_result",
          "data": {
            "text/plain": [
              "<Figure size 432x288 with 0 Axes>"
            ]
          },
          "metadata": {
            "tags": []
          },
          "execution_count": 9
        },
        {
          "output_type": "execute_result",
          "data": {
            "text/plain": [
              "[<matplotlib.lines.Line2D at 0x7f1b70ecd208>]"
            ]
          },
          "metadata": {
            "tags": []
          },
          "execution_count": 9
        },
        {
          "output_type": "execute_result",
          "data": {
            "text/plain": [
              "[<matplotlib.lines.Line2D at 0x7f1b70f1c160>]"
            ]
          },
          "metadata": {
            "tags": []
          },
          "execution_count": 9
        },
        {
          "output_type": "execute_result",
          "data": {
            "text/plain": [
              "Text(0.5, 1.0, 'Training and validation loss')"
            ]
          },
          "metadata": {
            "tags": []
          },
          "execution_count": 9
        },
        {
          "output_type": "execute_result",
          "data": {
            "text/plain": [
              "<matplotlib.legend.Legend at 0x7f1b70f30b00>"
            ]
          },
          "metadata": {
            "tags": []
          },
          "execution_count": 9
        },
        {
          "output_type": "display_data",
          "data": {
            "image/png": "[encoded data removed]",
            "text/plain": [
              "<Figure size 432x288 with 1 Axes>"
            ]
          },
          "metadata": {
            "tags": [],
            "needs_background": "light"
          }
        },
        {
          "output_type": "display_data",
          "data": {
            "image/png": "[encoded data removed]",
            "text/plain": [
              "<Figure size 432x288 with 1 Axes>"
            ]
          },
          "metadata": {
            "tags": [],
            "needs_background": "light"
          }
        }
      ]
    },
    {
      "cell_type": "code",
      "metadata": {
        "id": "QdN0VpIgJ5og",
        "colab_type": "code",
        "colab": {}
      },
      "source": [
        ""
      ],
      "execution_count": 0,
      "outputs": []
    }
  ]
}