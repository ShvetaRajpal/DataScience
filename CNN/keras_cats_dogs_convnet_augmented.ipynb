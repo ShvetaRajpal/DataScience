{
  "nbformat": 4,
  "nbformat_minor": 0,
  "metadata": {
    "colab": {
      "name": "keras_cats_dogs_convnet_augmented.ipynb",
      "provenance": [],
      "mount_file_id": "1W6rMlJwtxQP_h0jk9jFtRm4W8JANYAlm",
      "authorship_tag": "ABX9TyPU+QQuMuxmp0k1poT/hR+P",
      "include_colab_link": true
    },
    "kernelspec": {
      "name": "python3",
      "display_name": "Python 3"
    },
    "accelerator": "GPU"
  },
  "cells": [
    {
      "cell_type": "markdown",
      "metadata": {
        "id": "view-in-github",
        "colab_type": "text"
      },
      "source": [
        "<a href=\"https://colab.research.google.com/github/kiranmuloor/DataScience/blob/master/CNN/keras_cats_dogs_convnet_augmented.ipynb\" target=\"_parent\"><img src=\"https://colab.research.google.com/assets/colab-badge.svg\" alt=\"Open In Colab\"/></a>"
      ]
    },
    {
      "cell_type": "code",
      "metadata": {
        "id": "5j55ITryIaAT",
        "colab_type": "code",
        "colab": {}
      },
      "source": [
        "#Keras Model with Image Augmentation and Dropout to reduce overfitting\n",
        "from keras import layers\n",
        "from keras import models"
      ],
      "execution_count": 0,
      "outputs": []
    },
    {
      "cell_type": "code",
      "metadata": {
        "id": "gYCeYbXKIw-Y",
        "colab_type": "code",
        "colab": {
          "base_uri": "https://localhost:8080/",
          "height": 34
        },
        "outputId": "ae520a64-d65d-467a-ba8b-5dc3a0a745f3"
      },
      "source": [
        "from google.colab import drive\n",
        "drive.mount('/content/drive')\n",
        "from IPython.core.interactiveshell import InteractiveShell\n",
        "InteractiveShell.ast_node_interactivity = \"all\""
      ],
      "execution_count": 11,
      "outputs": [
        {
          "output_type": "stream",
          "text": [
            "Drive already mounted at /content/drive; to attempt to forcibly remount, call drive.mount(\"/content/drive\", force_remount=True).\n"
          ],
          "name": "stdout"
        }
      ]
    },
    {
      "cell_type": "code",
      "metadata": {
        "id": "ntgDRPsGIqOv",
        "colab_type": "code",
        "colab": {}
      },
      "source": [
        "train_dir=\"/content/drive/My Drive/Datascience/ClassWork/DeepLearning/CNN/dogs-vs-cats_small/train/\"\n",
        "validation_dir=\"/content/drive/My Drive/Datascience/ClassWork/DeepLearning/CNN/dogs-vs-cats_small/validation/\"\n",
        "from keras.preprocessing.image import ImageDataGenerator\n",
        "train_datagen = ImageDataGenerator(\n",
        "rescale=1./255,\n",
        "rotation_range=40,\n",
        "width_shift_range=0.2,\n",
        "height_shift_range=0.2,\n",
        "shear_range=0.2,\n",
        "zoom_range=0.2,\n",
        "horizontal_flip=True,)"
      ],
      "execution_count": 0,
      "outputs": []
    },
    {
      "cell_type": "code",
      "metadata": {
        "id": "lRNfm3mSI1vB",
        "colab_type": "code",
        "colab": {
          "base_uri": "https://localhost:8080/",
          "height": 52
        },
        "outputId": "b83647ac-1f32-4c55-d73e-a8cec8e2b2bf"
      },
      "source": [
        "#Validation Data Set should not be augmented\n",
        "test_datagen = ImageDataGenerator(rescale=1./255)\n",
        "#Resize all images to 150x150\n",
        "train_generator = train_datagen.flow_from_directory(train_dir,target_size=(150, 150),batch_size=32,class_mode='binary')\n",
        "validation_generator = test_datagen.flow_from_directory(\n",
        "validation_dir,target_size=(150, 150),batch_size=32,class_mode='binary')"
      ],
      "execution_count": 13,
      "outputs": [
        {
          "output_type": "stream",
          "text": [
            "Found 2000 images belonging to 2 classes.\n",
            "Found 1000 images belonging to 2 classes.\n"
          ],
          "name": "stdout"
        }
      ]
    },
    {
      "cell_type": "code",
      "metadata": {
        "id": "MeOmW_CZI3zw",
        "colab_type": "code",
        "colab": {}
      },
      "source": [
        "model = models.Sequential()\n",
        "model.add(layers.Conv2D(32, (3, 3), activation='relu',input_shape=(150, 150, 3)))\n",
        "model.add(layers.MaxPooling2D((2, 2)))\n",
        "model.add(layers.Conv2D(64, (3, 3), activation='relu'))\n",
        "model.add(layers.MaxPooling2D((2, 2)))\n",
        "model.add(layers.Conv2D(128, (3, 3), activation='relu'))\n",
        "model.add(layers.MaxPooling2D((2, 2)))\n",
        "model.add(layers.Conv2D(128, (3, 3), activation='relu'))\n",
        "model.add(layers.MaxPooling2D((2, 2)))\n",
        "model.add(layers.Flatten())\n",
        "model.add(layers.Dropout(0.5))\n",
        "model.add(layers.Dense(512, activation='relu'))\n",
        "model.add(layers.Dense(1, activation='sigmoid'))"
      ],
      "execution_count": 0,
      "outputs": []
    },
    {
      "cell_type": "code",
      "metadata": {
        "id": "eI8vbkwBJOXW",
        "colab_type": "code",
        "colab": {
          "base_uri": "https://localhost:8080/",
          "height": 1000
        },
        "outputId": "5ec2a06c-105d-41ca-c862-b7053b2e5ef7"
      },
      "source": [
        "from keras import optimizers\n",
        "model.compile(loss='binary_crossentropy',optimizer=optimizers.RMSprop(lr=1e-4),metrics=['acc'])\n",
        "\n",
        "history = model.fit_generator(\n",
        "train_generator,\n",
        "steps_per_epoch=100,\n",
        "epochs=100,\n",
        "validation_data=validation_generator,\n",
        "validation_steps=50)"
      ],
      "execution_count": 7,
      "outputs": [
        {
          "output_type": "stream",
          "text": [
            "Epoch 1/100\n",
            "100/100 [==============================] - 1248s 12s/step - loss: 0.6924 - acc: 0.5218 - val_loss: 0.6826 - val_acc: 0.5006\n",
            "Epoch 2/100\n",
            "100/100 [==============================] - 31s 306ms/step - loss: 0.6820 - acc: 0.5650 - val_loss: 0.6879 - val_acc: 0.4890\n",
            "Epoch 3/100\n",
            "100/100 [==============================] - 31s 307ms/step - loss: 0.6738 - acc: 0.5801 - val_loss: 0.7164 - val_acc: 0.5063\n",
            "Epoch 4/100\n",
            "100/100 [==============================] - 30s 301ms/step - loss: 0.6592 - acc: 0.6092 - val_loss: 0.7750 - val_acc: 0.5110\n",
            "Epoch 5/100\n",
            "100/100 [==============================] - 29s 292ms/step - loss: 0.6388 - acc: 0.6326 - val_loss: 0.7623 - val_acc: 0.4968\n",
            "Epoch 6/100\n",
            "100/100 [==============================] - 32s 317ms/step - loss: 0.6285 - acc: 0.6495 - val_loss: 0.7137 - val_acc: 0.5103\n",
            "Epoch 7/100\n",
            "100/100 [==============================] - 30s 297ms/step - loss: 0.6059 - acc: 0.6752 - val_loss: 0.6653 - val_acc: 0.5013\n",
            "Epoch 8/100\n",
            "100/100 [==============================] - 30s 302ms/step - loss: 0.6109 - acc: 0.6658 - val_loss: 0.9706 - val_acc: 0.4800\n",
            "Epoch 9/100\n",
            "100/100 [==============================] - 30s 297ms/step - loss: 0.5998 - acc: 0.6815 - val_loss: 0.9411 - val_acc: 0.5142\n",
            "Epoch 10/100\n",
            "100/100 [==============================] - 29s 292ms/step - loss: 0.5878 - acc: 0.6922 - val_loss: 1.0379 - val_acc: 0.4949\n",
            "Epoch 11/100\n",
            "100/100 [==============================] - 31s 305ms/step - loss: 0.5845 - acc: 0.6922 - val_loss: 0.9736 - val_acc: 0.5039\n",
            "Epoch 12/100\n",
            "100/100 [==============================] - 30s 298ms/step - loss: 0.5763 - acc: 0.6960 - val_loss: 1.1328 - val_acc: 0.5051\n",
            "Epoch 13/100\n",
            "100/100 [==============================] - 30s 301ms/step - loss: 0.5604 - acc: 0.7118 - val_loss: 0.9582 - val_acc: 0.5232\n",
            "Epoch 14/100\n",
            "100/100 [==============================] - 30s 298ms/step - loss: 0.5638 - acc: 0.7019 - val_loss: 1.3160 - val_acc: 0.5197\n",
            "Epoch 15/100\n",
            "100/100 [==============================] - 30s 300ms/step - loss: 0.5583 - acc: 0.7051 - val_loss: 1.0615 - val_acc: 0.4981\n",
            "Epoch 16/100\n",
            "100/100 [==============================] - 30s 297ms/step - loss: 0.5444 - acc: 0.7211 - val_loss: 1.2297 - val_acc: 0.5110\n",
            "Epoch 17/100\n",
            "100/100 [==============================] - 28s 283ms/step - loss: 0.5485 - acc: 0.7120 - val_loss: 1.5178 - val_acc: 0.4975\n",
            "Epoch 18/100\n",
            "100/100 [==============================] - 32s 323ms/step - loss: 0.5438 - acc: 0.7219 - val_loss: 1.4624 - val_acc: 0.5103\n",
            "Epoch 19/100\n",
            "100/100 [==============================] - 30s 298ms/step - loss: 0.5359 - acc: 0.7258 - val_loss: 1.5773 - val_acc: 0.5038\n",
            "Epoch 20/100\n",
            "100/100 [==============================] - 30s 296ms/step - loss: 0.5281 - acc: 0.7421 - val_loss: 0.8182 - val_acc: 0.5129\n",
            "Epoch 21/100\n",
            "100/100 [==============================] - 29s 295ms/step - loss: 0.5338 - acc: 0.7260 - val_loss: 1.0794 - val_acc: 0.5044\n",
            "Epoch 22/100\n",
            "100/100 [==============================] - 29s 288ms/step - loss: 0.5154 - acc: 0.7412 - val_loss: 1.0352 - val_acc: 0.5142\n",
            "Epoch 23/100\n",
            "100/100 [==============================] - 31s 309ms/step - loss: 0.5127 - acc: 0.7516 - val_loss: 1.2099 - val_acc: 0.5355\n",
            "Epoch 24/100\n",
            "100/100 [==============================] - 30s 304ms/step - loss: 0.5130 - acc: 0.7541 - val_loss: 1.7205 - val_acc: 0.5135\n",
            "Epoch 25/100\n",
            "100/100 [==============================] - 30s 297ms/step - loss: 0.5058 - acc: 0.7497 - val_loss: 0.6187 - val_acc: 0.4994\n",
            "Epoch 26/100\n",
            "100/100 [==============================] - 30s 295ms/step - loss: 0.4955 - acc: 0.7610 - val_loss: 1.9502 - val_acc: 0.5063\n",
            "Epoch 27/100\n",
            "100/100 [==============================] - 29s 292ms/step - loss: 0.5076 - acc: 0.7472 - val_loss: 1.4565 - val_acc: 0.4916\n",
            "Epoch 28/100\n",
            "100/100 [==============================] - 30s 300ms/step - loss: 0.4947 - acc: 0.7601 - val_loss: 0.9582 - val_acc: 0.5292\n",
            "Epoch 29/100\n",
            "100/100 [==============================] - 30s 297ms/step - loss: 0.4910 - acc: 0.7585 - val_loss: 1.5852 - val_acc: 0.5006\n",
            "Epoch 30/100\n",
            "100/100 [==============================] - 29s 294ms/step - loss: 0.4892 - acc: 0.7613 - val_loss: 1.3825 - val_acc: 0.5222\n",
            "Epoch 31/100\n",
            "100/100 [==============================] - 30s 298ms/step - loss: 0.4847 - acc: 0.7705 - val_loss: 1.1773 - val_acc: 0.5129\n",
            "Epoch 32/100\n",
            "100/100 [==============================] - 29s 293ms/step - loss: 0.4865 - acc: 0.7579 - val_loss: 0.8880 - val_acc: 0.5097\n",
            "Epoch 33/100\n",
            "100/100 [==============================] - 30s 295ms/step - loss: 0.4810 - acc: 0.7645 - val_loss: 1.4561 - val_acc: 0.5165\n",
            "Epoch 34/100\n",
            "100/100 [==============================] - 29s 287ms/step - loss: 0.4700 - acc: 0.7648 - val_loss: 1.0644 - val_acc: 0.5039\n",
            "Epoch 35/100\n",
            "100/100 [==============================] - 32s 317ms/step - loss: 0.4711 - acc: 0.7721 - val_loss: 1.3202 - val_acc: 0.5165\n",
            "Epoch 36/100\n",
            "100/100 [==============================] - 31s 308ms/step - loss: 0.4839 - acc: 0.7582 - val_loss: 1.8662 - val_acc: 0.5168\n",
            "Epoch 37/100\n",
            "100/100 [==============================] - 30s 299ms/step - loss: 0.4751 - acc: 0.7717 - val_loss: 0.9530 - val_acc: 0.5044\n",
            "Epoch 38/100\n",
            "100/100 [==============================] - 30s 299ms/step - loss: 0.4688 - acc: 0.7703 - val_loss: 0.6397 - val_acc: 0.5258\n",
            "Epoch 39/100\n",
            "100/100 [==============================] - 29s 289ms/step - loss: 0.4707 - acc: 0.7751 - val_loss: 1.5291 - val_acc: 0.5013\n",
            "Epoch 40/100\n",
            "100/100 [==============================] - 31s 315ms/step - loss: 0.4606 - acc: 0.7823 - val_loss: 1.6691 - val_acc: 0.4994\n",
            "Epoch 41/100\n",
            "100/100 [==============================] - 30s 297ms/step - loss: 0.4590 - acc: 0.7835 - val_loss: 1.1517 - val_acc: 0.5174\n",
            "Epoch 42/100\n",
            "100/100 [==============================] - 30s 297ms/step - loss: 0.4558 - acc: 0.7854 - val_loss: 1.0175 - val_acc: 0.5127\n",
            "Epoch 43/100\n",
            "100/100 [==============================] - 30s 298ms/step - loss: 0.4461 - acc: 0.7803 - val_loss: 1.6993 - val_acc: 0.5032\n",
            "Epoch 44/100\n",
            "100/100 [==============================] - 30s 298ms/step - loss: 0.4572 - acc: 0.7780 - val_loss: 2.2671 - val_acc: 0.5121\n",
            "Epoch 45/100\n",
            "100/100 [==============================] - 30s 304ms/step - loss: 0.4466 - acc: 0.7929 - val_loss: 1.5486 - val_acc: 0.5000\n",
            "Epoch 46/100\n",
            "100/100 [==============================] - 30s 298ms/step - loss: 0.4607 - acc: 0.7714 - val_loss: 1.4492 - val_acc: 0.4949\n",
            "Epoch 47/100\n",
            "100/100 [==============================] - 30s 300ms/step - loss: 0.4452 - acc: 0.7908 - val_loss: 1.7442 - val_acc: 0.5142\n",
            "Epoch 48/100\n",
            "100/100 [==============================] - 30s 297ms/step - loss: 0.4392 - acc: 0.7929 - val_loss: 0.8044 - val_acc: 0.4890\n",
            "Epoch 49/100\n",
            "100/100 [==============================] - 30s 296ms/step - loss: 0.4467 - acc: 0.7945 - val_loss: 1.5557 - val_acc: 0.5025\n",
            "Epoch 50/100\n",
            "100/100 [==============================] - 30s 298ms/step - loss: 0.4322 - acc: 0.8006 - val_loss: 1.3767 - val_acc: 0.5193\n",
            "Epoch 51/100\n",
            "100/100 [==============================] - 28s 285ms/step - loss: 0.4301 - acc: 0.7964 - val_loss: 1.7922 - val_acc: 0.5108\n",
            "Epoch 52/100\n",
            "100/100 [==============================] - 32s 317ms/step - loss: 0.4341 - acc: 0.8005 - val_loss: 2.5686 - val_acc: 0.5026\n",
            "Epoch 53/100\n",
            "100/100 [==============================] - 30s 300ms/step - loss: 0.4409 - acc: 0.7908 - val_loss: 1.7368 - val_acc: 0.5063\n",
            "Epoch 54/100\n",
            "100/100 [==============================] - 30s 299ms/step - loss: 0.4222 - acc: 0.8018 - val_loss: 1.7237 - val_acc: 0.4852\n",
            "Epoch 55/100\n",
            "100/100 [==============================] - 30s 304ms/step - loss: 0.4428 - acc: 0.7926 - val_loss: 1.6545 - val_acc: 0.5108\n",
            "Epoch 56/100\n",
            "100/100 [==============================] - 30s 297ms/step - loss: 0.4171 - acc: 0.8084 - val_loss: 1.0728 - val_acc: 0.4974\n",
            "Epoch 57/100\n",
            "100/100 [==============================] - 31s 307ms/step - loss: 0.4234 - acc: 0.8068 - val_loss: 1.1109 - val_acc: 0.5116\n",
            "Epoch 58/100\n",
            "100/100 [==============================] - 30s 300ms/step - loss: 0.4200 - acc: 0.8065 - val_loss: 0.9141 - val_acc: 0.5019\n",
            "Epoch 59/100\n",
            "100/100 [==============================] - 30s 300ms/step - loss: 0.4151 - acc: 0.8087 - val_loss: 1.0835 - val_acc: 0.5058\n",
            "Epoch 60/100\n",
            "100/100 [==============================] - 30s 298ms/step - loss: 0.4087 - acc: 0.8178 - val_loss: 1.3228 - val_acc: 0.5095\n",
            "Epoch 61/100\n",
            "100/100 [==============================] - 30s 298ms/step - loss: 0.4217 - acc: 0.8040 - val_loss: 1.1572 - val_acc: 0.5077\n",
            "Epoch 62/100\n",
            "100/100 [==============================] - 30s 300ms/step - loss: 0.4113 - acc: 0.8125 - val_loss: 1.4372 - val_acc: 0.5051\n",
            "Epoch 63/100\n",
            "100/100 [==============================] - 30s 298ms/step - loss: 0.4198 - acc: 0.8090 - val_loss: 1.6117 - val_acc: 0.5006\n",
            "Epoch 64/100\n",
            "100/100 [==============================] - 30s 297ms/step - loss: 0.4097 - acc: 0.8116 - val_loss: 0.4837 - val_acc: 0.5019\n",
            "Epoch 65/100\n",
            "100/100 [==============================] - 30s 303ms/step - loss: 0.4046 - acc: 0.8172 - val_loss: 1.3126 - val_acc: 0.4987\n",
            "Epoch 66/100\n",
            "100/100 [==============================] - 30s 299ms/step - loss: 0.4098 - acc: 0.8097 - val_loss: 1.5254 - val_acc: 0.4968\n",
            "Epoch 67/100\n",
            "100/100 [==============================] - 30s 298ms/step - loss: 0.4166 - acc: 0.8109 - val_loss: 1.1559 - val_acc: 0.5044\n",
            "Epoch 68/100\n",
            "100/100 [==============================] - 29s 289ms/step - loss: 0.3927 - acc: 0.8185 - val_loss: 1.8755 - val_acc: 0.5097\n",
            "Epoch 69/100\n",
            "100/100 [==============================] - 32s 316ms/step - loss: 0.4065 - acc: 0.8084 - val_loss: 1.6982 - val_acc: 0.4962\n",
            "Epoch 70/100\n",
            "100/100 [==============================] - 30s 301ms/step - loss: 0.4031 - acc: 0.8157 - val_loss: 1.9350 - val_acc: 0.5019\n",
            "Epoch 71/100\n",
            "100/100 [==============================] - 29s 295ms/step - loss: 0.3980 - acc: 0.8157 - val_loss: 1.9428 - val_acc: 0.5025\n",
            "Epoch 72/100\n",
            "100/100 [==============================] - 30s 300ms/step - loss: 0.3810 - acc: 0.8242 - val_loss: 1.8195 - val_acc: 0.5039\n",
            "Epoch 73/100\n",
            "100/100 [==============================] - 29s 292ms/step - loss: 0.4039 - acc: 0.8078 - val_loss: 1.3235 - val_acc: 0.5032\n",
            "Epoch 74/100\n",
            "100/100 [==============================] - 30s 304ms/step - loss: 0.3900 - acc: 0.8220 - val_loss: 1.9077 - val_acc: 0.5121\n",
            "Epoch 75/100\n",
            "100/100 [==============================] - 30s 300ms/step - loss: 0.3810 - acc: 0.8254 - val_loss: 1.5881 - val_acc: 0.5206\n",
            "Epoch 76/100\n",
            "100/100 [==============================] - 30s 302ms/step - loss: 0.3852 - acc: 0.8273 - val_loss: 1.7314 - val_acc: 0.5044\n",
            "Epoch 77/100\n",
            "100/100 [==============================] - 30s 298ms/step - loss: 0.3769 - acc: 0.8355 - val_loss: 0.9735 - val_acc: 0.4974\n",
            "Epoch 78/100\n",
            "100/100 [==============================] - 30s 298ms/step - loss: 0.3782 - acc: 0.8273 - val_loss: 1.6661 - val_acc: 0.5051\n",
            "Epoch 79/100\n",
            "100/100 [==============================] - 30s 297ms/step - loss: 0.3653 - acc: 0.8422 - val_loss: 2.1495 - val_acc: 0.5103\n",
            "Epoch 80/100\n",
            "100/100 [==============================] - 28s 282ms/step - loss: 0.3748 - acc: 0.8307 - val_loss: 0.8932 - val_acc: 0.5071\n",
            "Epoch 81/100\n",
            "100/100 [==============================] - 32s 321ms/step - loss: 0.3764 - acc: 0.8285 - val_loss: 2.5484 - val_acc: 0.4968\n",
            "Epoch 82/100\n",
            "100/100 [==============================] - 30s 297ms/step - loss: 0.3756 - acc: 0.8346 - val_loss: 1.1660 - val_acc: 0.5097\n",
            "Epoch 83/100\n",
            "100/100 [==============================] - 30s 299ms/step - loss: 0.3691 - acc: 0.8335 - val_loss: 1.7626 - val_acc: 0.5006\n",
            "Epoch 84/100\n",
            "100/100 [==============================] - 30s 296ms/step - loss: 0.3617 - acc: 0.8350 - val_loss: 1.6035 - val_acc: 0.4948\n",
            "Epoch 85/100\n",
            "100/100 [==============================] - 29s 289ms/step - loss: 0.3613 - acc: 0.8386 - val_loss: 1.1954 - val_acc: 0.5019\n",
            "Epoch 86/100\n",
            "100/100 [==============================] - 32s 320ms/step - loss: 0.3693 - acc: 0.8318 - val_loss: 1.6390 - val_acc: 0.5000\n",
            "Epoch 87/100\n",
            "100/100 [==============================] - 30s 298ms/step - loss: 0.3581 - acc: 0.8345 - val_loss: 1.6381 - val_acc: 0.4981\n",
            "Epoch 88/100\n",
            "100/100 [==============================] - 30s 300ms/step - loss: 0.3808 - acc: 0.8260 - val_loss: 2.0197 - val_acc: 0.4852\n",
            "Epoch 89/100\n",
            "100/100 [==============================] - 30s 298ms/step - loss: 0.3590 - acc: 0.8409 - val_loss: 1.2209 - val_acc: 0.5213\n",
            "Epoch 90/100\n",
            "100/100 [==============================] - 29s 292ms/step - loss: 0.3552 - acc: 0.8453 - val_loss: 1.6460 - val_acc: 0.5102\n",
            "Epoch 91/100\n",
            "100/100 [==============================] - 30s 301ms/step - loss: 0.3641 - acc: 0.8412 - val_loss: 2.0475 - val_acc: 0.4897\n",
            "Epoch 92/100\n",
            "100/100 [==============================] - 30s 295ms/step - loss: 0.3581 - acc: 0.8483 - val_loss: 2.0186 - val_acc: 0.4975\n",
            "Epoch 93/100\n",
            "100/100 [==============================] - 30s 297ms/step - loss: 0.3554 - acc: 0.8390 - val_loss: 1.2968 - val_acc: 0.4929\n",
            "Epoch 94/100\n",
            "100/100 [==============================] - 30s 297ms/step - loss: 0.3495 - acc: 0.8389 - val_loss: 1.9182 - val_acc: 0.5013\n",
            "Epoch 95/100\n",
            "100/100 [==============================] - 30s 297ms/step - loss: 0.3516 - acc: 0.8346 - val_loss: 2.4377 - val_acc: 0.5103\n",
            "Epoch 96/100\n",
            "100/100 [==============================] - 30s 297ms/step - loss: 0.3403 - acc: 0.8502 - val_loss: 1.0265 - val_acc: 0.4987\n",
            "Epoch 97/100\n",
            "100/100 [==============================] - 29s 288ms/step - loss: 0.3534 - acc: 0.8485 - val_loss: 1.7537 - val_acc: 0.4943\n",
            "Epoch 98/100\n",
            "100/100 [==============================] - 32s 315ms/step - loss: 0.3363 - acc: 0.8535 - val_loss: 2.8461 - val_acc: 0.4948\n",
            "Epoch 99/100\n",
            "100/100 [==============================] - 30s 297ms/step - loss: 0.3303 - acc: 0.8530 - val_loss: 2.5411 - val_acc: 0.4911\n",
            "Epoch 100/100\n",
            "100/100 [==============================] - 29s 294ms/step - loss: 0.3372 - acc: 0.8573 - val_loss: 1.2409 - val_acc: 0.5039\n"
          ],
          "name": "stdout"
        }
      ]
    },
    {
      "cell_type": "code",
      "metadata": {
        "id": "od-bDeW4JQJh",
        "colab_type": "code",
        "colab": {}
      },
      "source": [
        "model.save('cats_and_dogs_small_2.h5')"
      ],
      "execution_count": 0,
      "outputs": []
    },
    {
      "cell_type": "code",
      "metadata": {
        "id": "wDYftYJ6JSq1",
        "colab_type": "code",
        "colab": {
          "base_uri": "https://localhost:8080/",
          "height": 598
        },
        "outputId": "0c34c65a-2d44-47f5-e779-a9d588361065"
      },
      "source": [
        "import matplotlib.pyplot as plt\n",
        "acc = history.history['acc']\n",
        "val_acc = history.history['val_acc']\n",
        "loss = history.history['loss']\n",
        "val_loss = history.history['val_loss']\n",
        "epochs = range(1, len(acc) + 1)\n",
        "plt.plot(epochs, acc, 'bo', label='Training acc')\n",
        "plt.plot(epochs, val_acc, 'b', label='Validation acc')\n",
        "plt.title('Training and validation accuracy')\n",
        "plt.legend()\n",
        "plt.figure()\n",
        "plt.plot(epochs, loss, 'bo', label='Training loss')\n",
        "plt.plot(epochs, val_loss, 'b', label='Validation loss')\n",
        "plt.title('Training and validation loss')\n",
        "plt.legend()\n",
        "plt.show()"
      ],
      "execution_count": 9,
      "outputs": [
        {
          "output_type": "execute_result",
          "data": {
            "text/plain": [
              "[<matplotlib.lines.Line2D at 0x7fb6a0092978>]"
            ]
          },
          "metadata": {
            "tags": []
          },
          "execution_count": 9
        },
        {
          "output_type": "execute_result",
          "data": {
            "text/plain": [
              "[<matplotlib.lines.Line2D at 0x7fb6a00fc438>]"
            ]
          },
          "metadata": {
            "tags": []
          },
          "execution_count": 9
        },
        {
          "output_type": "execute_result",
          "data": {
            "text/plain": [
              "Text(0.5, 1.0, 'Training and validation accuracy')"
            ]
          },
          "metadata": {
            "tags": []
          },
          "execution_count": 9
        },
        {
          "output_type": "execute_result",
          "data": {
            "text/plain": [
              "<matplotlib.legend.Legend at 0x7fb6a00fc240>"
            ]
          },
          "metadata": {
            "tags": []
          },
          "execution_count": 9
        },
        {
          "output_type": "execute_result",
          "data": {
            "text/plain": [
              "<Figure size 432x288 with 0 Axes>"
            ]
          },
          "metadata": {
            "tags": []
          },
          "execution_count": 9
        },
        {
          "output_type": "execute_result",
          "data": {
            "text/plain": [
              "[<matplotlib.lines.Line2D at 0x7fb6a006d128>]"
            ]
          },
          "metadata": {
            "tags": []
          },
          "execution_count": 9
        },
        {
          "output_type": "execute_result",
          "data": {
            "text/plain": [
              "[<matplotlib.lines.Line2D at 0x7fb6a00bd128>]"
            ]
          },
          "metadata": {
            "tags": []
          },
          "execution_count": 9
        },
        {
          "output_type": "execute_result",
          "data": {
            "text/plain": [
              "Text(0.5, 1.0, 'Training and validation loss')"
            ]
          },
          "metadata": {
            "tags": []
          },
          "execution_count": 9
        },
        {
          "output_type": "execute_result",
          "data": {
            "text/plain": [
              "<matplotlib.legend.Legend at 0x7fb6a0063b70>"
            ]
          },
          "metadata": {
            "tags": []
          },
          "execution_count": 9
        },
        {
          "output_type": "display_data",
          "data": {
            "image/png": "[encoded data removed]",
            "text/plain": [
              "<Figure size 432x288 with 1 Axes>"
            ]
          },
          "metadata": {
            "tags": [],
            "needs_background": "light"
          }
        },
        {
          "output_type": "display_data",
          "data": {
            "image/png": "[encoded data removed]",
            "text/plain": [
              "<Figure size 432x288 with 1 Axes>"
            ]
          },
          "metadata": {
            "tags": [],
            "needs_background": "light"
          }
        }
      ]
    },
    {
      "cell_type": "code",
      "metadata": {
        "id": "QdN0VpIgJ5og",
        "colab_type": "code",
        "colab": {}
      },
      "source": [
        ""
      ],
      "execution_count": 0,
      "outputs": []
    }
  ]
}