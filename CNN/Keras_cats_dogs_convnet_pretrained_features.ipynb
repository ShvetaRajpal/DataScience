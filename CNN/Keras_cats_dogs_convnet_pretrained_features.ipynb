{
  "nbformat": 4,
  "nbformat_minor": 0,
  "metadata": {
    "kernelspec": {
      "display_name": "Python 3",
      "language": "python",
      "name": "python3"
    },
    "language_info": {
      "codemirror_mode": {
        "name": "ipython",
        "version": 3
      },
      "file_extension": ".py",
      "mimetype": "text/x-python",
      "name": "python",
      "nbconvert_exporter": "python",
      "pygments_lexer": "ipython3",
      "version": "3.7.4"
    },
    "colab": {
      "name": "Keras_cats_dogs_convnet_pretrained_features.ipynb",
      "provenance": [],
      "include_colab_link": true
    },
    "accelerator": "GPU"
  },
  "cells": [
    {
      "cell_type": "markdown",
      "metadata": {
        "id": "view-in-github",
        "colab_type": "text"
      },
      "source": [
        "<a href=\"https://colab.research.google.com/github/kiranmuloor/DataScience/blob/master/CNN/Keras_cats_dogs_convnet_pretrained_features.ipynb\" target=\"_parent\"><img src=\"https://colab.research.google.com/assets/colab-badge.svg\" alt=\"Open In Colab\"/></a>"
      ]
    },
    {
      "cell_type": "code",
      "metadata": {
        "id": "_bb2J9hMLfUo",
        "colab_type": "code",
        "colab": {}
      },
      "source": [
        "#This method does not use Data Augmentation\n",
        "from keras.applications import VGG16\n",
        "#Just reuse the bottom convolutional base of VGG16 model as its more generic, top will be related to specific classes so not used\n",
        "conv_base = VGG16(weights='imagenet',include_top=False,input_shape=(150, 150, 3))"
      ],
      "execution_count": 0,
      "outputs": []
    },
    {
      "cell_type": "code",
      "metadata": {
        "id": "jQ7HpaxbLtSU",
        "colab_type": "code",
        "colab": {
          "base_uri": "https://localhost:8080/",
          "height": 34
        },
        "outputId": "421f692e-468a-4eeb-866f-e18c10373b4f"
      },
      "source": [
        "from google.colab import drive\n",
        "drive.mount('/content/drive')"
      ],
      "execution_count": 3,
      "outputs": [
        {
          "output_type": "stream",
          "text": [
            "Drive already mounted at /content/drive; to attempt to forcibly remount, call drive.mount(\"/content/drive\", force_remount=True).\n"
          ],
          "name": "stdout"
        }
      ]
    },
    {
      "cell_type": "code",
      "metadata": {
        "id": "hXzJSEqrLfUr",
        "colab_type": "code",
        "colab": {
          "base_uri": "https://localhost:8080/",
          "height": 70
        },
        "outputId": "d9044fa9-e2cc-4c21-ddb5-4b223d8e4761"
      },
      "source": [
        "#Extracting features using the pretrained convolutional base\n",
        "import os\n",
        "import numpy as np\n",
        "from keras.preprocessing.image import ImageDataGenerator\n",
        "base_dir = '/content/drive/My Drive/Datascience/ClassWork/DeepLearning/CNN/dogs-vs-cats_small/'\n",
        "train_dir = os.path.join(base_dir, 'train')\n",
        "validation_dir = os.path.join(base_dir, 'validation')\n",
        "test_dir = os.path.join(base_dir, 'test')\n",
        "datagen = ImageDataGenerator(rescale=1./255)\n",
        "batch_size = 20\n",
        "def extract_features(directory, sample_count):\n",
        "    features = np.zeros(shape=(sample_count, 4, 4, 512))\n",
        "    labels = np.zeros(shape=(sample_count))\n",
        "    generator = datagen.flow_from_directory(\n",
        "    directory,\n",
        "    target_size=(150, 150),\n",
        "    batch_size=batch_size,\n",
        "    class_mode='binary')\n",
        "    i = 0\n",
        "    for inputs_batch, labels_batch in generator:\n",
        "        features_batch = conv_base.predict(inputs_batch)\n",
        "        features[i * batch_size : (i + 1) * batch_size] = features_batch\n",
        "        labels[i * batch_size : (i + 1) * batch_size] = labels_batch\n",
        "        #print(labels_batch.shape)\n",
        "        i += 1\n",
        "        #Note that because generators yield data indefinitely in a loop,you must break after every image has been seen once\n",
        "        if i * batch_size >= sample_count:\n",
        "            break\n",
        "    return features, labels\n",
        "train_features, train_labels = extract_features(train_dir, 2000)\n",
        "validation_features, validation_labels = extract_features(validation_dir, 1000)\n",
        "test_features, test_labels = extract_features(test_dir, 1000)"
      ],
      "execution_count": 4,
      "outputs": [
        {
          "output_type": "stream",
          "text": [
            "Found 2000 images belonging to 2 classes.\n",
            "Found 1000 images belonging to 2 classes.\n",
            "Found 1000 images belonging to 2 classes.\n"
          ],
          "name": "stdout"
        }
      ]
    },
    {
      "cell_type": "code",
      "metadata": {
        "id": "2ig0wG9CLfUu",
        "colab_type": "code",
        "colab": {}
      },
      "source": [
        "#The extracted features are currently of shape (samples, 4, 4, 512). You’ll feed them\n",
        "#to a densely connected classifier, so first you must flatten them to (samples, 8192):\n",
        "\n",
        "train_features = np.reshape(train_features, (2000, 4 * 4 * 512))\n",
        "validation_features = np.reshape(validation_features, (1000, 4 * 4 * 512))\n",
        "test_features = np.reshape(test_features, (1000, 4 * 4 * 512))"
      ],
      "execution_count": 0,
      "outputs": []
    },
    {
      "cell_type": "code",
      "metadata": {
        "id": "Fmgs6Uo6LfUz",
        "colab_type": "code",
        "colab": {
          "base_uri": "https://localhost:8080/",
          "height": 1000
        },
        "outputId": "7539e5d6-64ce-4040-bb7d-14123d532a56"
      },
      "source": [
        "# Defining and Training the Densely connected classifier\n",
        "from keras import models\n",
        "from keras import layers\n",
        "from keras import optimizers\n",
        "model = models.Sequential()\n",
        "model.add(layers.Dense(256, activation='relu', input_dim=4 * 4 * 512))\n",
        "model.add(layers.Dropout(0.5))\n",
        "model.add(layers.Dense(1, activation='sigmoid'))\n",
        "model.compile(optimizer=optimizers.RMSprop(lr=2e-5),\n",
        "loss='binary_crossentropy',\n",
        "metrics=['acc'])\n",
        "history = model.fit(train_features, train_labels,\n",
        "epochs=30,\n",
        "batch_size=20,\n",
        "validation_data=(validation_features, validation_labels))\n"
      ],
      "execution_count": 6,
      "outputs": [
        {
          "output_type": "stream",
          "text": [
            "Train on 2000 samples, validate on 1000 samples\n",
            "Epoch 1/30\n",
            "2000/2000 [==============================] - 2s 1ms/step - loss: 0.5858 - acc: 0.6945 - val_loss: 0.9028 - val_acc: 0.4920\n",
            "Epoch 2/30\n",
            "2000/2000 [==============================] - 2s 1ms/step - loss: 0.4138 - acc: 0.8195 - val_loss: 0.9946 - val_acc: 0.4880\n",
            "Epoch 3/30\n",
            "2000/2000 [==============================] - 2s 1ms/step - loss: 0.3609 - acc: 0.8480 - val_loss: 1.1721 - val_acc: 0.4880\n",
            "Epoch 4/30\n",
            "2000/2000 [==============================] - 2s 1ms/step - loss: 0.3160 - acc: 0.8610 - val_loss: 1.4631 - val_acc: 0.5090\n",
            "Epoch 5/30\n",
            "2000/2000 [==============================] - 2s 1ms/step - loss: 0.2845 - acc: 0.8800 - val_loss: 1.4575 - val_acc: 0.5040\n",
            "Epoch 6/30\n",
            "2000/2000 [==============================] - 2s 1ms/step - loss: 0.2633 - acc: 0.8915 - val_loss: 1.5582 - val_acc: 0.5050\n",
            "Epoch 7/30\n",
            "2000/2000 [==============================] - 2s 1ms/step - loss: 0.2472 - acc: 0.8975 - val_loss: 1.5662 - val_acc: 0.5070\n",
            "Epoch 8/30\n",
            "2000/2000 [==============================] - 2s 1ms/step - loss: 0.2334 - acc: 0.9070 - val_loss: 1.7117 - val_acc: 0.4990\n",
            "Epoch 9/30\n",
            "2000/2000 [==============================] - 2s 1ms/step - loss: 0.2167 - acc: 0.9225 - val_loss: 1.8001 - val_acc: 0.5010\n",
            "Epoch 10/30\n",
            "2000/2000 [==============================] - 2s 1ms/step - loss: 0.2078 - acc: 0.9165 - val_loss: 1.7225 - val_acc: 0.5070\n",
            "Epoch 11/30\n",
            "2000/2000 [==============================] - 2s 1ms/step - loss: 0.1983 - acc: 0.9290 - val_loss: 1.9780 - val_acc: 0.4960\n",
            "Epoch 12/30\n",
            "2000/2000 [==============================] - 2s 1ms/step - loss: 0.1869 - acc: 0.9285 - val_loss: 1.8833 - val_acc: 0.5050\n",
            "Epoch 13/30\n",
            "2000/2000 [==============================] - 2s 1ms/step - loss: 0.1784 - acc: 0.9345 - val_loss: 1.9884 - val_acc: 0.5040\n",
            "Epoch 14/30\n",
            "2000/2000 [==============================] - 2s 1ms/step - loss: 0.1679 - acc: 0.9415 - val_loss: 1.9947 - val_acc: 0.5060\n",
            "Epoch 15/30\n",
            "2000/2000 [==============================] - 2s 1ms/step - loss: 0.1620 - acc: 0.9430 - val_loss: 2.1125 - val_acc: 0.5030\n",
            "Epoch 16/30\n",
            "2000/2000 [==============================] - 2s 1ms/step - loss: 0.1601 - acc: 0.9415 - val_loss: 2.1756 - val_acc: 0.5010\n",
            "Epoch 17/30\n",
            "2000/2000 [==============================] - 2s 1ms/step - loss: 0.1488 - acc: 0.9500 - val_loss: 2.2498 - val_acc: 0.5000\n",
            "Epoch 18/30\n",
            "2000/2000 [==============================] - 2s 1ms/step - loss: 0.1417 - acc: 0.9525 - val_loss: 2.2877 - val_acc: 0.4990\n",
            "Epoch 19/30\n",
            "2000/2000 [==============================] - 2s 1ms/step - loss: 0.1351 - acc: 0.9610 - val_loss: 2.2060 - val_acc: 0.5060\n",
            "Epoch 20/30\n",
            "2000/2000 [==============================] - 2s 1ms/step - loss: 0.1303 - acc: 0.9540 - val_loss: 2.3126 - val_acc: 0.5000\n",
            "Epoch 21/30\n",
            "2000/2000 [==============================] - 2s 1ms/step - loss: 0.1221 - acc: 0.9620 - val_loss: 2.3964 - val_acc: 0.4980\n",
            "Epoch 22/30\n",
            "2000/2000 [==============================] - 2s 1ms/step - loss: 0.1233 - acc: 0.9575 - val_loss: 2.3468 - val_acc: 0.5020\n",
            "Epoch 23/30\n",
            "2000/2000 [==============================] - 2s 1ms/step - loss: 0.1146 - acc: 0.9665 - val_loss: 2.4072 - val_acc: 0.4990\n",
            "Epoch 24/30\n",
            "2000/2000 [==============================] - 2s 1ms/step - loss: 0.1115 - acc: 0.9620 - val_loss: 2.4008 - val_acc: 0.5020\n",
            "Epoch 25/30\n",
            "2000/2000 [==============================] - 2s 1ms/step - loss: 0.1079 - acc: 0.9635 - val_loss: 2.5251 - val_acc: 0.4940\n",
            "Epoch 26/30\n",
            "2000/2000 [==============================] - 2s 1ms/step - loss: 0.1049 - acc: 0.9675 - val_loss: 2.6204 - val_acc: 0.4960\n",
            "Epoch 27/30\n",
            "2000/2000 [==============================] - 2s 1ms/step - loss: 0.1003 - acc: 0.9655 - val_loss: 2.5909 - val_acc: 0.4970\n",
            "Epoch 28/30\n",
            "2000/2000 [==============================] - 2s 1ms/step - loss: 0.0949 - acc: 0.9745 - val_loss: 2.8735 - val_acc: 0.5000\n",
            "Epoch 29/30\n",
            "2000/2000 [==============================] - 2s 1ms/step - loss: 0.0942 - acc: 0.9695 - val_loss: 2.6686 - val_acc: 0.4910\n",
            "Epoch 30/30\n",
            "2000/2000 [==============================] - 2s 1ms/step - loss: 0.0845 - acc: 0.9755 - val_loss: 2.6441 - val_acc: 0.4950\n"
          ],
          "name": "stdout"
        }
      ]
    },
    {
      "cell_type": "code",
      "metadata": {
        "id": "4Zziwx1bLfU3",
        "colab_type": "code",
        "colab": {
          "base_uri": "https://localhost:8080/",
          "height": 545
        },
        "outputId": "5ab40ad5-ea87-422c-a0e0-b7d1a0a13666"
      },
      "source": [
        "#Plotting the results\n",
        "import matplotlib.pyplot as plt\n",
        "acc = history.history['acc']\n",
        "val_acc = history.history['val_acc']\n",
        "loss = history.history['loss']\n",
        "val_loss = history.history['val_loss']\n",
        "epochs = range(1, len(acc) + 1)\n",
        "plt.plot(epochs, acc, 'bo', label='Training acc')\n",
        "plt.plot(epochs, val_acc, 'b', label='Validation acc')\n",
        "plt.title('Training and validation accuracy')\n",
        "plt.legend()\n",
        "plt.figure()\n",
        "plt.plot(epochs, loss, 'bo', label='Training loss')\n",
        "plt.plot(epochs, val_loss, 'b', label='Validation loss')\n",
        "plt.title('Training and validation loss')\n",
        "plt.legend()\n",
        "plt.show()"
      ],
      "execution_count": 7,
      "outputs": [
        {
          "output_type": "display_data",
          "data": {
            "image/png": "[encoded data removed]",
            "text/plain": [
              "<Figure size 432x288 with 1 Axes>"
            ]
          },
          "metadata": {
            "tags": [],
            "needs_background": "light"
          }
        },
        {
          "output_type": "display_data",
          "data": {
            "image/png": "[encoded data removed]",
            "text/plain": [
              "<Figure size 432x288 with 1 Axes>"
            ]
          },
          "metadata": {
            "tags": [],
            "needs_background": "light"
          }
        }
      ]
    },
    {
      "cell_type": "code",
      "metadata": {
        "id": "DGkSc0YFMDLJ",
        "colab_type": "code",
        "colab": {}
      },
      "source": [
        ""
      ],
      "execution_count": 0,
      "outputs": []
    }
  ]
}