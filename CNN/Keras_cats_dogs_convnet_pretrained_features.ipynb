{
  "nbformat": 4,
  "nbformat_minor": 0,
  "metadata": {
    "kernelspec": {
      "display_name": "Python 3",
      "language": "python",
      "name": "python3"
    },
    "language_info": {
      "codemirror_mode": {
        "name": "ipython",
        "version": 3
      },
      "file_extension": ".py",
      "mimetype": "text/x-python",
      "name": "python",
      "nbconvert_exporter": "python",
      "pygments_lexer": "ipython3",
      "version": "3.7.4"
    },
    "colab": {
      "name": "Keras_cats_dogs_convnet_pretrained_features.ipynb",
      "provenance": [],
      "include_colab_link": true
    },
    "accelerator": "TPU"
  },
  "cells": [
    {
      "cell_type": "markdown",
      "metadata": {
        "id": "view-in-github",
        "colab_type": "text"
      },
      "source": [
        "<a href=\"https://colab.research.google.com/github/kiranmuloor/DataScience/blob/master/CNN/Keras_cats_dogs_convnet_pretrained_features.ipynb\" target=\"_parent\"><img src=\"https://colab.research.google.com/assets/colab-badge.svg\" alt=\"Open In Colab\"/></a>"
      ]
    },
    {
      "cell_type": "code",
      "metadata": {
        "id": "_bb2J9hMLfUo",
        "colab_type": "code",
        "outputId": "986a3daf-ef5b-47df-908f-c929ec395148",
        "colab": {
          "base_uri": "https://localhost:8080/",
          "height": 34
        }
      },
      "source": [
        "#This method does not use Data Augmentation\n",
        "from keras.applications import VGG16\n",
        "#Just reuse the bottom convolutional base of VGG16 model as its more generic, top will be related to specific classes so not used\n",
        "conv_base = VGG16(weights='imagenet',include_top=False,input_shape=(150, 150, 3))"
      ],
      "execution_count": 1,
      "outputs": [
        {
          "output_type": "stream",
          "text": [
            "Using TensorFlow backend.\n"
          ],
          "name": "stderr"
        }
      ]
    },
    {
      "cell_type": "code",
      "metadata": {
        "id": "jQ7HpaxbLtSU",
        "colab_type": "code",
        "outputId": "4d97b553-ca99-4f10-fa8c-9e789f68347f",
        "colab": {
          "base_uri": "https://localhost:8080/",
          "height": 34
        }
      },
      "source": [
        "from google.colab import drive\n",
        "drive.mount('/content/drive')"
      ],
      "execution_count": 2,
      "outputs": [
        {
          "output_type": "stream",
          "text": [
            "Drive already mounted at /content/drive; to attempt to forcibly remount, call drive.mount(\"/content/drive\", force_remount=True).\n"
          ],
          "name": "stdout"
        }
      ]
    },
    {
      "cell_type": "code",
      "metadata": {
        "id": "hXzJSEqrLfUr",
        "colab_type": "code",
        "outputId": "69fca69e-dfd5-4064-a1c8-db0a15f60aa8",
        "colab": {
          "base_uri": "https://localhost:8080/",
          "height": 70
        }
      },
      "source": [
        "#Extracting features using the pretrained convolutional base\n",
        "import os\n",
        "import numpy as np\n",
        "from keras.preprocessing.image import ImageDataGenerator\n",
        "base_dir = '/content/drive/My Drive/Datascience/ClassWork/DeepLearning/CNN/dogs-vs-cats_small/'\n",
        "train_dir = os.path.join(base_dir, 'train')\n",
        "validation_dir = os.path.join(base_dir, 'validation')\n",
        "test_dir = os.path.join(base_dir, 'validation')\n",
        "datagen = ImageDataGenerator(rescale=1./255)\n",
        "batch_size = 20\n",
        "def extract_features(directory, sample_count):\n",
        "    features = np.zeros(shape=(sample_count, 4, 4, 512))\n",
        "    labels = np.zeros(shape=(sample_count))\n",
        "    generator = datagen.flow_from_directory(\n",
        "    directory,\n",
        "    target_size=(150, 150),\n",
        "    batch_size=batch_size,\n",
        "    class_mode='binary')\n",
        "    i = 0\n",
        "    for inputs_batch, labels_batch in generator:\n",
        "        features_batch = conv_base.predict(inputs_batch)\n",
        "        features[i * batch_size : (i + 1) * batch_size] = features_batch\n",
        "        labels[i * batch_size : (i + 1) * batch_size] = labels_batch\n",
        "        #print(labels_batch.shape)\n",
        "        i += 1\n",
        "        #Note that because generators yield data indefinitely in a loop,you must break after every image has been seen once\n",
        "        if i * batch_size >= sample_count:\n",
        "            break\n",
        "    return features, labels\n",
        "train_features, train_labels = extract_features(train_dir, 2000)\n",
        "validation_features, validation_labels = extract_features(validation_dir, 1000)\n",
        "test_features, test_labels = extract_features(test_dir, 1000)"
      ],
      "execution_count": 3,
      "outputs": [
        {
          "output_type": "stream",
          "text": [
            "Found 3000 images belonging to 2 classes.\n",
            "Found 2000 images belonging to 2 classes.\n",
            "Found 2000 images belonging to 2 classes.\n"
          ],
          "name": "stdout"
        }
      ]
    },
    {
      "cell_type": "code",
      "metadata": {
        "id": "2ig0wG9CLfUu",
        "colab_type": "code",
        "colab": {}
      },
      "source": [
        "#The extracted features are currently of shape (samples, 4, 4, 512). You’ll feed them\n",
        "#to a densely connected classifier, so first you must flatten them to (samples, 8192):\n",
        "\n",
        "train_features = np.reshape(train_features, (2000, 4 * 4 * 512))\n",
        "validation_features = np.reshape(validation_features, (1000, 4 * 4 * 512))\n",
        "test_features = np.reshape(test_features, (1000, 4 * 4 * 512))"
      ],
      "execution_count": 0,
      "outputs": []
    },
    {
      "cell_type": "code",
      "metadata": {
        "id": "Fmgs6Uo6LfUz",
        "colab_type": "code",
        "colab": {
          "base_uri": "https://localhost:8080/",
          "height": 1000
        },
        "outputId": "2a5c0441-2b13-44b7-de05-0fdedf4fa026"
      },
      "source": [
        "# Defining and Training the Densely connected classifier\n",
        "from keras import models\n",
        "from keras import layers\n",
        "from keras import optimizers\n",
        "model = models.Sequential()\n",
        "model.add(layers.Dense(256, activation='relu', input_dim=4 * 4 * 512))\n",
        "model.add(layers.Dropout(0.5))\n",
        "model.add(layers.Dense(1, activation='sigmoid'))\n",
        "model.compile(optimizer=optimizers.RMSprop(lr=2e-5),\n",
        "loss='binary_crossentropy',\n",
        "metrics=['acc'])\n",
        "history = model.fit(train_features, train_labels,\n",
        "epochs=30,\n",
        "batch_size=20,\n",
        "validation_data=(validation_features, validation_labels))\n"
      ],
      "execution_count": 5,
      "outputs": [
        {
          "output_type": "stream",
          "text": [
            "Train on 2000 samples, validate on 1000 samples\n",
            "Epoch 1/30\n",
            "2000/2000 [==============================] - 3s 1ms/step - loss: 0.5942 - acc: 0.6805 - val_loss: 0.4412 - val_acc: 0.8150\n",
            "Epoch 2/30\n",
            "2000/2000 [==============================] - 2s 1ms/step - loss: 0.4244 - acc: 0.8085 - val_loss: 0.3643 - val_acc: 0.8430\n",
            "Epoch 3/30\n",
            "2000/2000 [==============================] - 2s 1ms/step - loss: 0.3533 - acc: 0.8470 - val_loss: 0.3290 - val_acc: 0.8610\n",
            "Epoch 4/30\n",
            "2000/2000 [==============================] - 2s 1ms/step - loss: 0.3007 - acc: 0.8840 - val_loss: 0.3245 - val_acc: 0.8490\n",
            "Epoch 5/30\n",
            "2000/2000 [==============================] - 2s 1ms/step - loss: 0.2796 - acc: 0.8875 - val_loss: 0.2959 - val_acc: 0.8710\n",
            "Epoch 6/30\n",
            "2000/2000 [==============================] - 2s 1ms/step - loss: 0.2618 - acc: 0.9000 - val_loss: 0.2861 - val_acc: 0.8750\n",
            "Epoch 7/30\n",
            "2000/2000 [==============================] - 2s 1ms/step - loss: 0.2414 - acc: 0.9105 - val_loss: 0.2807 - val_acc: 0.8730\n",
            "Epoch 8/30\n",
            "2000/2000 [==============================] - 2s 1ms/step - loss: 0.2304 - acc: 0.9120 - val_loss: 0.2726 - val_acc: 0.8800\n",
            "Epoch 9/30\n",
            "2000/2000 [==============================] - 2s 1ms/step - loss: 0.2174 - acc: 0.9245 - val_loss: 0.2690 - val_acc: 0.8780\n",
            "Epoch 10/30\n",
            "2000/2000 [==============================] - 2s 1ms/step - loss: 0.2052 - acc: 0.9210 - val_loss: 0.2635 - val_acc: 0.8800\n",
            "Epoch 11/30\n",
            "2000/2000 [==============================] - 2s 1ms/step - loss: 0.1948 - acc: 0.9275 - val_loss: 0.2608 - val_acc: 0.8820\n",
            "Epoch 12/30\n",
            "2000/2000 [==============================] - 2s 1ms/step - loss: 0.1826 - acc: 0.9405 - val_loss: 0.2575 - val_acc: 0.8840\n",
            "Epoch 13/30\n",
            "2000/2000 [==============================] - 2s 1ms/step - loss: 0.1870 - acc: 0.9285 - val_loss: 0.2546 - val_acc: 0.8890\n",
            "Epoch 14/30\n",
            "2000/2000 [==============================] - 2s 1ms/step - loss: 0.1745 - acc: 0.9345 - val_loss: 0.2642 - val_acc: 0.8790\n",
            "Epoch 15/30\n",
            "2000/2000 [==============================] - 2s 1ms/step - loss: 0.1666 - acc: 0.9455 - val_loss: 0.2542 - val_acc: 0.8860\n",
            "Epoch 16/30\n",
            "2000/2000 [==============================] - 2s 1ms/step - loss: 0.1480 - acc: 0.9530 - val_loss: 0.2478 - val_acc: 0.8950\n",
            "Epoch 17/30\n",
            "2000/2000 [==============================] - 2s 1ms/step - loss: 0.1501 - acc: 0.9460 - val_loss: 0.2446 - val_acc: 0.8950\n",
            "Epoch 18/30\n",
            "2000/2000 [==============================] - 2s 1ms/step - loss: 0.1462 - acc: 0.9525 - val_loss: 0.2448 - val_acc: 0.8940\n",
            "Epoch 19/30\n",
            "2000/2000 [==============================] - 2s 1ms/step - loss: 0.1396 - acc: 0.9510 - val_loss: 0.2434 - val_acc: 0.8970\n",
            "Epoch 20/30\n",
            "2000/2000 [==============================] - 2s 1ms/step - loss: 0.1367 - acc: 0.9525 - val_loss: 0.2453 - val_acc: 0.8930\n",
            "Epoch 21/30\n",
            "2000/2000 [==============================] - 2s 1ms/step - loss: 0.1315 - acc: 0.9580 - val_loss: 0.2407 - val_acc: 0.9000\n",
            "Epoch 22/30\n",
            "2000/2000 [==============================] - 2s 1ms/step - loss: 0.1219 - acc: 0.9595 - val_loss: 0.2401 - val_acc: 0.8960\n",
            "Epoch 23/30\n",
            "2000/2000 [==============================] - 2s 1ms/step - loss: 0.1214 - acc: 0.9620 - val_loss: 0.2410 - val_acc: 0.8940\n",
            "Epoch 24/30\n",
            "2000/2000 [==============================] - 2s 1ms/step - loss: 0.1179 - acc: 0.9665 - val_loss: 0.2406 - val_acc: 0.8930\n",
            "Epoch 25/30\n",
            "2000/2000 [==============================] - 2s 1ms/step - loss: 0.1157 - acc: 0.9630 - val_loss: 0.2363 - val_acc: 0.8970\n",
            "Epoch 26/30\n",
            "2000/2000 [==============================] - 2s 1ms/step - loss: 0.1089 - acc: 0.9620 - val_loss: 0.2373 - val_acc: 0.9010\n",
            "Epoch 27/30\n",
            "2000/2000 [==============================] - 2s 1ms/step - loss: 0.1027 - acc: 0.9650 - val_loss: 0.2354 - val_acc: 0.8970\n",
            "Epoch 28/30\n",
            "2000/2000 [==============================] - 2s 1ms/step - loss: 0.0958 - acc: 0.9725 - val_loss: 0.2412 - val_acc: 0.8980\n",
            "Epoch 29/30\n",
            "2000/2000 [==============================] - 2s 1ms/step - loss: 0.0940 - acc: 0.9660 - val_loss: 0.2415 - val_acc: 0.8960\n",
            "Epoch 30/30\n",
            "2000/2000 [==============================] - 2s 1ms/step - loss: 0.0936 - acc: 0.9695 - val_loss: 0.2342 - val_acc: 0.8980\n"
          ],
          "name": "stdout"
        }
      ]
    },
    {
      "cell_type": "code",
      "metadata": {
        "id": "4Zziwx1bLfU3",
        "colab_type": "code",
        "colab": {
          "base_uri": "https://localhost:8080/",
          "height": 545
        },
        "outputId": "2d20f065-8d52-4e0c-d6ec-22c0bbbbea56"
      },
      "source": [
        "#Plotting the results\n",
        "import matplotlib.pyplot as plt\n",
        "acc = history.history['acc']\n",
        "val_acc = history.history['val_acc']\n",
        "loss = history.history['loss']\n",
        "val_loss = history.history['val_loss']\n",
        "epochs = range(1, len(acc) + 1)\n",
        "plt.plot(epochs, acc, 'bo', label='Training acc')\n",
        "plt.plot(epochs, val_acc, 'b', label='Validation acc')\n",
        "plt.title('Training and validation accuracy')\n",
        "plt.legend()\n",
        "plt.figure()\n",
        "plt.plot(epochs, loss, 'bo', label='Training loss')\n",
        "plt.plot(epochs, val_loss, 'b', label='Validation loss')\n",
        "plt.title('Training and validation loss')\n",
        "plt.legend()\n",
        "plt.show()"
      ],
      "execution_count": 6,
      "outputs": [
        {
          "output_type": "display_data",
          "data": {
            "image/png": "[encoded data removed]",
            "text/plain": [
              "<Figure size 432x288 with 1 Axes>"
            ]
          },
          "metadata": {
            "tags": [],
            "needs_background": "light"
          }
        },
        {
          "output_type": "display_data",
          "data": {
            "image/png": "[encoded data removed]",
            "text/plain": [
              "<Figure size 432x288 with 1 Axes>"
            ]
          },
          "metadata": {
            "tags": [],
            "needs_background": "light"
          }
        }
      ]
    },
    {
      "cell_type": "code",
      "metadata": {
        "id": "DGkSc0YFMDLJ",
        "colab_type": "code",
        "colab": {}
      },
      "source": [
        ""
      ],
      "execution_count": 0,
      "outputs": []
    }
  ]
}